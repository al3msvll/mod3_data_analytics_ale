{
 "cells": [
  {
   "cell_type": "markdown",
   "id": "7ebb2ea4",
   "metadata": {},
   "source": [
    "# Ejercicios\n",
    "1 #Vamos a seguir trabajando con el csv de rating-and-performance, pero vamos a añadir un csv más para completar la información de nuestro e-commerce. En concreto, vamos a incluir insights.csv.\n",
    "\n",
    "2 #Unid los dos DataFrames en uno solo, usando el método que considereis más correcto. Querremos quedarnos con todos los productos que estén en los dos conjuntos de datos.\n",
    "\n",
    "3 #Explorad el nombre de las columnas, ¿hay alguna que esté repetida o que no nos aporte información de valor? ¿Hay alguna columna que solo tenga un valor? En caso de ser así, eliminadlas. NOTA Hay tres columnas que cuando exploramos sus valores únicos y sus frecuencias ayer, nos deberíamos haber dado cuenta que solo tiene un valor.\n",
    "\n",
    "\n",
    "4 #Algunas de las columnas tienen . en sus nombres y en otras tenemos _. Unifica el nombre de las columnas para que todas tengan \"_\". Además, todas deben estar en minúsculas.\n",
    "\n",
    "5 #En la columna de merchant_info_subtitle, si nos fijamos hay algunas celdas donde tenemos entre paréntesis el número total de calificaciones para el comerciante (que es la misma información que la que tenemos en la columna \"merchant_rating_count\"). Eliminad de la columna \"merchant_info_subtitle\" la parte del string de los paréntesis. Guardar el resultado de vuestra limpieza en una columna que se llame igual, es decir, \"merchant_info_subtitle\".\n",
    "\n",
    "6 #Si nos fijamos, en la primera fila antes solo teníamos un paréntesis, pero los hemos eliminado en el paso anterior, y ahora tenemos un string vacío, lo cual no tiene mucho sentido. En este ejercicio debereis reemplazar esos strings vacios por nulos de Pandas (NOTA estos deben ser indicados de la siguiente forma np.nan, y deberéis importar numpy).\n",
    "\n",
    "7 #Hay ciertas columnas que no vamos a necesitar para nuestro análisis. En concreto, vamos a eliminar las columnas de badges_count, product_variation_inventory, urgency_text, merchant_title, merchant_has_profile_picture, merchant_profile_picture, product_picture, total_urgency_count, has_urgency_banner y urgency_text_rate. Guardad los cambios realizados hasta este punto en un csv para usarlo en los ejercicios de la lección de mañana.\n",
    "\n",
    "8 #Pongamos en práctica el filtrado de datos en Pandas:\n",
    "Seleccionad aquellos productos cuyo color es verde. ¿Cuántos productos tenemos?\n",
    "Seleccionad aquellos productos cuyo color es verde y rojo. ¿Cuántos productos tenemos de cada tipo de color?\n",
    "Seleccionad aquellos productos de la talla M, que valgan más de 15. ¿Cuántos productos tenemos?\n",
    "Seleccionad aquellos productos cuyo precio este entre 1 y 2 (ambos inclusive). ¿Cuántos productos tenemos?\n",
    "Filtrad los datos, para extraer solo aquellos productos que tengan uno o más dígitos en su titulo. ¿Cuántos productos hay?"
   ]
  },
  {
   "cell_type": "code",
   "execution_count": null,
   "id": "53169e42",
   "metadata": {},
   "outputs": [],
   "source": []
  }
 ],
 "metadata": {
  "language_info": {
   "name": "python"
  }
 },
 "nbformat": 4,
 "nbformat_minor": 5
}
