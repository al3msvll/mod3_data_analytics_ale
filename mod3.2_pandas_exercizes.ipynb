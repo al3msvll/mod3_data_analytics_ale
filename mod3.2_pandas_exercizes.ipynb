{
 "cells": [
  {
   "cell_type": "code",
   "execution_count": 2,
   "id": "7d693f7c",
   "metadata": {},
   "outputs": [],
   "source": [
    "import pandas as pd\n"
   ]
  },
  {
   "cell_type": "code",
   "execution_count": null,
   "id": "7cae0c29",
   "metadata": {},
   "outputs": [],
   "source": [
    "\n",
    "# EJERCICIO DE SERIES (UNIDIMENSIONAL)\n",
    "# 1. Crea una serie con números correlativos entre 1 y 12 inclusive (puedes hacerlo como lista o diccionario):\n",
    "    #Cambia el indice de la serie anteriormente creada para que comience con el numero 20.\n",
    "   # Nuevamente cambia el indice de la serie, esta vez con una lista que haga referencia a los meses del año (tenemos 12 elementos como la cantidad de meses del año).\n",
    "   # Muestra los valores que están en la posición 3 y 8 de mi serie.\n",
    "   # Muestra los valores que están etiquetados en enero y agosto.\n",
    "   # Muestra sus valores, indices, forma, tamaño y el tipo de elementos de la serie."
   ]
  },
  {
   "cell_type": "code",
   "execution_count": 4,
   "id": "885a3ca5",
   "metadata": {},
   "outputs": [],
   "source": [
    "lista_numeros = (1, 2, 3, 4, 5, 6, 7, 8, 9, 10, 11, 12)\n",
    "serie_numeros = pd.Series(lista_numeros,index=range(20, 32))\n"
   ]
  },
  {
   "cell_type": "code",
   "execution_count": 5,
   "id": "9b0e9aa7",
   "metadata": {},
   "outputs": [
    {
     "data": {
      "text/plain": [
       "20     1\n",
       "21     2\n",
       "22     3\n",
       "23     4\n",
       "24     5\n",
       "25     6\n",
       "26     7\n",
       "27     8\n",
       "28     9\n",
       "29    10\n",
       "30    11\n",
       "31    12\n",
       "dtype: int64"
      ]
     },
     "execution_count": 5,
     "metadata": {},
     "output_type": "execute_result"
    }
   ],
   "source": [
    "serie_numeros"
   ]
  },
  {
   "cell_type": "code",
   "execution_count": 7,
   "id": "b2a05a2f",
   "metadata": {},
   "outputs": [
    {
     "data": {
      "text/plain": [
       "20    1\n",
       "21    2\n",
       "22    3\n",
       "dtype: int64"
      ]
     },
     "execution_count": 7,
     "metadata": {},
     "output_type": "execute_result"
    }
   ],
   "source": [
    "serie_numeros.head (3)"
   ]
  },
  {
   "cell_type": "code",
   "execution_count": 10,
   "id": "b3b44da6",
   "metadata": {},
   "outputs": [],
   "source": [
    "serie_numeros= pd.Series([1,2,3,4,5,6,7,8,9,10,11,12], index=[\"Enero\", \"Febrero\", \"Marzo\", \"Abril\", \"Mayo\", \"Junio\", \"Julio\", \"Agosto\", \"Septiembre\", \"Octubre\", \"Noviembre\", \"Diciembre\"])"
   ]
  },
  {
   "cell_type": "code",
   "execution_count": 12,
   "id": "f579d41a",
   "metadata": {},
   "outputs": [
    {
     "data": {
      "text/plain": [
       "Enero      1\n",
       "Febrero    2\n",
       "Marzo      3\n",
       "dtype: int64"
      ]
     },
     "execution_count": 12,
     "metadata": {},
     "output_type": "execute_result"
    }
   ],
   "source": [
    "serie_numeros.head(3)"
   ]
  },
  {
   "cell_type": "code",
   "execution_count": null,
   "id": "c41dab9a",
   "metadata": {},
   "outputs": [
    {
     "data": {
      "text/plain": [
       "1"
      ]
     },
     "execution_count": 36,
     "metadata": {},
     "output_type": "execute_result"
    }
   ],
   "source": [
    "serie_numeros.values[0] #Enero"
   ]
  },
  {
   "cell_type": "code",
   "execution_count": null,
   "id": "051c2203",
   "metadata": {},
   "outputs": [
    {
     "data": {
      "text/plain": [
       "8"
      ]
     },
     "execution_count": 37,
     "metadata": {},
     "output_type": "execute_result"
    }
   ],
   "source": [
    "serie_numeros.values[7] #Agosto"
   ]
  },
  {
   "cell_type": "code",
   "execution_count": 38,
   "id": "57c8e358",
   "metadata": {},
   "outputs": [
    {
     "data": {
      "text/plain": [
       "'Abril'"
      ]
     },
     "execution_count": 38,
     "metadata": {},
     "output_type": "execute_result"
    }
   ],
   "source": [
    "serie_numeros.index [3]"
   ]
  },
  {
   "cell_type": "code",
   "execution_count": 39,
   "id": "2ce975e2",
   "metadata": {},
   "outputs": [
    {
     "data": {
      "text/plain": [
       "'Septiembre'"
      ]
     },
     "execution_count": 39,
     "metadata": {},
     "output_type": "execute_result"
    }
   ],
   "source": [
    "serie_numeros.index [8]"
   ]
  },
  {
   "cell_type": "code",
   "execution_count": 40,
   "id": "582fe7e1",
   "metadata": {},
   "outputs": [
    {
     "data": {
      "text/plain": [
       "Index(['Enero', 'Febrero', 'Marzo', 'Abril', 'Mayo', 'Junio', 'Julio',\n",
       "       'Agosto', 'Septiembre', 'Octubre', 'Noviembre', 'Diciembre'],\n",
       "      dtype='object')"
      ]
     },
     "execution_count": 40,
     "metadata": {},
     "output_type": "execute_result"
    }
   ],
   "source": [
    "serie_numeros.index"
   ]
  },
  {
   "cell_type": "code",
   "execution_count": 42,
   "id": "7e8a771c",
   "metadata": {},
   "outputs": [
    {
     "data": {
      "text/plain": [
       "array([ 1,  2,  3,  4,  5,  6,  7,  8,  9, 10, 11, 12])"
      ]
     },
     "execution_count": 42,
     "metadata": {},
     "output_type": "execute_result"
    }
   ],
   "source": [
    "serie_numeros.values"
   ]
  },
  {
   "cell_type": "code",
   "execution_count": 43,
   "id": "29848700",
   "metadata": {},
   "outputs": [
    {
     "data": {
      "text/plain": [
       "(12,)"
      ]
     },
     "execution_count": 43,
     "metadata": {},
     "output_type": "execute_result"
    }
   ],
   "source": [
    "serie_numeros.shape"
   ]
  },
  {
   "cell_type": "code",
   "execution_count": 44,
   "id": "8bee505e",
   "metadata": {},
   "outputs": [
    {
     "data": {
      "text/plain": [
       "12"
      ]
     },
     "execution_count": 44,
     "metadata": {},
     "output_type": "execute_result"
    }
   ],
   "source": [
    "serie_numeros.size"
   ]
  },
  {
   "cell_type": "code",
   "execution_count": 45,
   "id": "bf5afa31",
   "metadata": {},
   "outputs": [
    {
     "data": {
      "text/plain": [
       "dtype('int64')"
      ]
     },
     "execution_count": 45,
     "metadata": {},
     "output_type": "execute_result"
    }
   ],
   "source": [
    "serie_numeros.dtype"
   ]
  },
  {
   "cell_type": "code",
   "execution_count": 62,
   "id": "b133ff1e",
   "metadata": {},
   "outputs": [
    {
     "name": "stdout",
     "output_type": "stream",
     "text": [
      "{'meses': ['Enero', 'Febrero', 'Marzo', 'Abril', 'Mayo', 'Junio', 'Julio', 'Agosto', 'Septiembre', 'Octubre', 'Noviembre', 'Diciembre'], 'numeros': [1, 2, 3, 4, 5, 6, 7, 8, 9, 10, 11, 12]}\n"
     ]
    }
   ],
   "source": [
    "#convertir una lista en un diccionario\n",
    "diccionario = {\n",
    "    \"meses\" : [\"Enero\", \"Febrero\", \"Marzo\", \"Abril\", \"Mayo\", \"Junio\", \"Julio\", \"Agosto\", \"Septiembre\", \"Octubre\", \"Noviembre\", \"Diciembre\"],\n",
    "    \"numeros\" : [1, 2, 3, 4, 5, 6, 7, 8, 9, 10, 11, 12] \n",
    "} \n",
    "\n",
    "print(diccionario)\n",
    "\n"
   ]
  },
  {
   "cell_type": "code",
   "execution_count": null,
   "id": "167bd9de",
   "metadata": {},
   "outputs": [
    {
     "data": {
      "text/html": [
       "<div>\n",
       "<style scoped>\n",
       "    .dataframe tbody tr th:only-of-type {\n",
       "        vertical-align: middle;\n",
       "    }\n",
       "\n",
       "    .dataframe tbody tr th {\n",
       "        vertical-align: top;\n",
       "    }\n",
       "\n",
       "    .dataframe thead th {\n",
       "        text-align: right;\n",
       "    }\n",
       "</style>\n",
       "<table border=\"1\" class=\"dataframe\">\n",
       "  <thead>\n",
       "    <tr style=\"text-align: right;\">\n",
       "      <th></th>\n",
       "      <th>meses</th>\n",
       "      <th>numeros</th>\n",
       "    </tr>\n",
       "  </thead>\n",
       "  <tbody>\n",
       "    <tr>\n",
       "      <th>0</th>\n",
       "      <td>Enero</td>\n",
       "      <td>1</td>\n",
       "    </tr>\n",
       "    <tr>\n",
       "      <th>1</th>\n",
       "      <td>Febrero</td>\n",
       "      <td>2</td>\n",
       "    </tr>\n",
       "    <tr>\n",
       "      <th>2</th>\n",
       "      <td>Marzo</td>\n",
       "      <td>3</td>\n",
       "    </tr>\n",
       "  </tbody>\n",
       "</table>\n",
       "</div>"
      ],
      "text/plain": [
       "     meses  numeros\n",
       "0    Enero        1\n",
       "1  Febrero        2\n",
       "2    Marzo        3"
      ]
     },
     "metadata": {},
     "output_type": "display_data"
    }
   ],
   "source": [
    "#convertir un diccionario en un dataframe\n",
    "df_diccionario = pd.DataFrame(diccionario)\n",
    "display(df_diccionario.head(3)) #imprimir en formato bonito los 3 pirmeros valores del dataframe"
   ]
  },
  {
   "cell_type": "code",
   "execution_count": null,
   "id": "f4cb5883",
   "metadata": {},
   "outputs": [
    {
     "data": {
      "text/html": [
       "<div>\n",
       "<style scoped>\n",
       "    .dataframe tbody tr th:only-of-type {\n",
       "        vertical-align: middle;\n",
       "    }\n",
       "\n",
       "    .dataframe tbody tr th {\n",
       "        vertical-align: top;\n",
       "    }\n",
       "\n",
       "    .dataframe thead th {\n",
       "        text-align: right;\n",
       "    }\n",
       "</style>\n",
       "<table border=\"1\" class=\"dataframe\">\n",
       "  <thead>\n",
       "    <tr style=\"text-align: right;\">\n",
       "      <th></th>\n",
       "      <th>meses</th>\n",
       "      <th>numeros</th>\n",
       "    </tr>\n",
       "  </thead>\n",
       "  <tbody>\n",
       "    <tr>\n",
       "      <th>9</th>\n",
       "      <td>Octubre</td>\n",
       "      <td>10</td>\n",
       "    </tr>\n",
       "    <tr>\n",
       "      <th>10</th>\n",
       "      <td>Noviembre</td>\n",
       "      <td>11</td>\n",
       "    </tr>\n",
       "    <tr>\n",
       "      <th>11</th>\n",
       "      <td>Diciembre</td>\n",
       "      <td>12</td>\n",
       "    </tr>\n",
       "  </tbody>\n",
       "</table>\n",
       "</div>"
      ],
      "text/plain": [
       "        meses  numeros\n",
       "9     Octubre       10\n",
       "10  Noviembre       11\n",
       "11  Diciembre       12"
      ]
     },
     "execution_count": 65,
     "metadata": {},
     "output_type": "execute_result"
    }
   ],
   "source": [
    "df_diccionario.tail(3) #imprimir en formato bonito los 3 ultimos valores del dataframe"
   ]
  },
  {
   "cell_type": "code",
   "execution_count": null,
   "id": "bd0e6973",
   "metadata": {},
   "outputs": [
    {
     "data": {
      "text/plain": [
       "(12, 2)"
      ]
     },
     "execution_count": 66,
     "metadata": {},
     "output_type": "execute_result"
    }
   ],
   "source": [
    "df_diccionario.shape #12 filas y 2 columnas *bidimensional)"
   ]
  },
  {
   "cell_type": "code",
   "execution_count": 67,
   "id": "a60ad367",
   "metadata": {},
   "outputs": [
    {
     "data": {
      "text/plain": [
       "Index(['meses', 'numeros'], dtype='object')"
      ]
     },
     "execution_count": 67,
     "metadata": {},
     "output_type": "execute_result"
    }
   ],
   "source": [
    "df_diccionario.columns #columnas del dataframe"
   ]
  },
  {
   "cell_type": "code",
   "execution_count": 68,
   "id": "cefe73b4",
   "metadata": {},
   "outputs": [
    {
     "data": {
      "text/html": [
       "<div>\n",
       "<style scoped>\n",
       "    .dataframe tbody tr th:only-of-type {\n",
       "        vertical-align: middle;\n",
       "    }\n",
       "\n",
       "    .dataframe tbody tr th {\n",
       "        vertical-align: top;\n",
       "    }\n",
       "\n",
       "    .dataframe thead th {\n",
       "        text-align: right;\n",
       "    }\n",
       "</style>\n",
       "<table border=\"1\" class=\"dataframe\">\n",
       "  <thead>\n",
       "    <tr style=\"text-align: right;\">\n",
       "      <th></th>\n",
       "      <th>index</th>\n",
       "      <th>title</th>\n",
       "      <th>title_orig</th>\n",
       "      <th>price</th>\n",
       "      <th>retail_price</th>\n",
       "      <th>currency_buyer</th>\n",
       "      <th>units_sold</th>\n",
       "      <th>uses_ad_boosts</th>\n",
       "      <th>rating</th>\n",
       "      <th>rating_count</th>\n",
       "      <th>...</th>\n",
       "      <th>merchant_rating_count</th>\n",
       "      <th>merchant_rating</th>\n",
       "      <th>merchant_id</th>\n",
       "      <th>merchant_has_profile_picture</th>\n",
       "      <th>merchant_profile_picture</th>\n",
       "      <th>product_url</th>\n",
       "      <th>product_picture</th>\n",
       "      <th>product_id</th>\n",
       "      <th>theme</th>\n",
       "      <th>crawl_month</th>\n",
       "    </tr>\n",
       "  </thead>\n",
       "  <tbody>\n",
       "    <tr>\n",
       "      <th>0</th>\n",
       "      <td>0</td>\n",
       "      <td>2020 Summer Vintage Flamingo Print  Pajamas Se...</td>\n",
       "      <td>2020 Summer Vintage Flamingo Print  Pajamas Se...</td>\n",
       "      <td>16.0</td>\n",
       "      <td>14</td>\n",
       "      <td>EUR</td>\n",
       "      <td>100</td>\n",
       "      <td>0</td>\n",
       "      <td>3.76</td>\n",
       "      <td>54</td>\n",
       "      <td>...</td>\n",
       "      <td>568</td>\n",
       "      <td>4.128521</td>\n",
       "      <td>595097d6a26f6e070cb878d1</td>\n",
       "      <td>0</td>\n",
       "      <td>NaN</td>\n",
       "      <td>https://www.wish.com/c/5e9ae51d43d6a96e303acdb0</td>\n",
       "      <td>https://contestimg.wish.com/api/webimage/5e9ae...</td>\n",
       "      <td>5e9ae51d43d6a96e303acdb0</td>\n",
       "      <td>summer</td>\n",
       "      <td>2020-08</td>\n",
       "    </tr>\n",
       "    <tr>\n",
       "      <th>1</th>\n",
       "      <td>1</td>\n",
       "      <td>SSHOUSE Summer Casual Sleeveless Soirée Party ...</td>\n",
       "      <td>Women's Casual Summer Sleeveless Sexy Mini Dress</td>\n",
       "      <td>8.0</td>\n",
       "      <td>22</td>\n",
       "      <td>EUR</td>\n",
       "      <td>20000</td>\n",
       "      <td>1</td>\n",
       "      <td>3.45</td>\n",
       "      <td>6135</td>\n",
       "      <td>...</td>\n",
       "      <td>17752</td>\n",
       "      <td>3.899673</td>\n",
       "      <td>56458aa03a698c35c9050988</td>\n",
       "      <td>0</td>\n",
       "      <td>NaN</td>\n",
       "      <td>https://www.wish.com/c/58940d436a0d3d5da4e95a38</td>\n",
       "      <td>https://contestimg.wish.com/api/webimage/58940...</td>\n",
       "      <td>58940d436a0d3d5da4e95a38</td>\n",
       "      <td>summer</td>\n",
       "      <td>2020-08</td>\n",
       "    </tr>\n",
       "    <tr>\n",
       "      <th>2</th>\n",
       "      <td>2</td>\n",
       "      <td>2020 Nouvelle Arrivée Femmes Printemps et Été ...</td>\n",
       "      <td>2020 New Arrival Women Spring and Summer Beach...</td>\n",
       "      <td>8.0</td>\n",
       "      <td>43</td>\n",
       "      <td>EUR</td>\n",
       "      <td>100</td>\n",
       "      <td>0</td>\n",
       "      <td>3.57</td>\n",
       "      <td>14</td>\n",
       "      <td>...</td>\n",
       "      <td>295</td>\n",
       "      <td>3.989831</td>\n",
       "      <td>5d464a1ffdf7bc44ee933c65</td>\n",
       "      <td>0</td>\n",
       "      <td>NaN</td>\n",
       "      <td>https://www.wish.com/c/5ea10e2c617580260d55310a</td>\n",
       "      <td>https://contestimg.wish.com/api/webimage/5ea10...</td>\n",
       "      <td>5ea10e2c617580260d55310a</td>\n",
       "      <td>summer</td>\n",
       "      <td>2020-08</td>\n",
       "    </tr>\n",
       "  </tbody>\n",
       "</table>\n",
       "<p>3 rows × 44 columns</p>\n",
       "</div>"
      ],
      "text/plain": [
       "   index                                              title  \\\n",
       "0      0  2020 Summer Vintage Flamingo Print  Pajamas Se...   \n",
       "1      1  SSHOUSE Summer Casual Sleeveless Soirée Party ...   \n",
       "2      2  2020 Nouvelle Arrivée Femmes Printemps et Été ...   \n",
       "\n",
       "                                          title_orig  price  retail_price  \\\n",
       "0  2020 Summer Vintage Flamingo Print  Pajamas Se...   16.0            14   \n",
       "1   Women's Casual Summer Sleeveless Sexy Mini Dress    8.0            22   \n",
       "2  2020 New Arrival Women Spring and Summer Beach...    8.0            43   \n",
       "\n",
       "  currency_buyer  units_sold  uses_ad_boosts  rating  rating_count  ...  \\\n",
       "0            EUR         100               0    3.76            54  ...   \n",
       "1            EUR       20000               1    3.45          6135  ...   \n",
       "2            EUR         100               0    3.57            14  ...   \n",
       "\n",
       "   merchant_rating_count  merchant_rating               merchant_id  \\\n",
       "0                    568         4.128521  595097d6a26f6e070cb878d1   \n",
       "1                  17752         3.899673  56458aa03a698c35c9050988   \n",
       "2                    295         3.989831  5d464a1ffdf7bc44ee933c65   \n",
       "\n",
       "   merchant_has_profile_picture  merchant_profile_picture  \\\n",
       "0                             0                       NaN   \n",
       "1                             0                       NaN   \n",
       "2                             0                       NaN   \n",
       "\n",
       "                                       product_url  \\\n",
       "0  https://www.wish.com/c/5e9ae51d43d6a96e303acdb0   \n",
       "1  https://www.wish.com/c/58940d436a0d3d5da4e95a38   \n",
       "2  https://www.wish.com/c/5ea10e2c617580260d55310a   \n",
       "\n",
       "                                     product_picture  \\\n",
       "0  https://contestimg.wish.com/api/webimage/5e9ae...   \n",
       "1  https://contestimg.wish.com/api/webimage/58940...   \n",
       "2  https://contestimg.wish.com/api/webimage/5ea10...   \n",
       "\n",
       "                 product_id   theme crawl_month  \n",
       "0  5e9ae51d43d6a96e303acdb0  summer     2020-08  \n",
       "1  58940d436a0d3d5da4e95a38  summer     2020-08  \n",
       "2  5ea10e2c617580260d55310a  summer     2020-08  \n",
       "\n",
       "[3 rows x 44 columns]"
      ]
     },
     "execution_count": 68,
     "metadata": {},
     "output_type": "execute_result"
    }
   ],
   "source": [
    "\n",
    "#2. EJERCICIO DE DATAFRAMES (Bidimensional)\n",
    "# Abre el fichero de rating-and-performance con el método que sea más correcto. Además muestra las 5 primeras filas del DataFrame.\n",
    "\n",
    "df_rating_and_performance = pd.read_csv(\"/Users/alejandramartinsevilla/Downloads/spaces-o50fZDRQYNgRINpMJz49-uploads-git-blob-c1c10e8f39ba5f814f77ecb77c93154834b00430-rating-and-performance.csv\")\n",
    "df_rating_and_performance.head(3)"
   ]
  },
  {
   "cell_type": "code",
   "execution_count": null,
   "id": "c6f025b3",
   "metadata": {},
   "outputs": [
    {
     "data": {
      "text/plain": [
       "0       16.00\n",
       "1        8.00\n",
       "2        8.00\n",
       "3        8.00\n",
       "4        2.72\n",
       "        ...  \n",
       "1568     6.00\n",
       "1569     2.00\n",
       "1570     5.00\n",
       "1571    13.00\n",
       "1572     7.00\n",
       "Name: price, Length: 1573, dtype: float64"
      ]
     },
     "execution_count": 76,
     "metadata": {},
     "output_type": "execute_result"
    }
   ],
   "source": [
    "df_rating_and_performance.loc[:, \"price\"]#seleccionar la columna de precios\n",
    "type(df_rating_and_performance.loc[:, \"price\"]) #ver el tipo de datos de la columna seleccionada"
   ]
  },
  {
   "cell_type": "code",
   "execution_count": 77,
   "id": "6f08d7e9",
   "metadata": {},
   "outputs": [
    {
     "data": {
      "text/plain": [
       "pandas.core.series.Series"
      ]
     },
     "execution_count": 77,
     "metadata": {},
     "output_type": "execute_result"
    }
   ],
   "source": [
    "type(df_rating_and_performance.loc[:, \"price\"]) #ver el tipo de datos de la columna seleccionada"
   ]
  },
  {
   "cell_type": "code",
   "execution_count": 83,
   "id": "27d96e24",
   "metadata": {},
   "outputs": [
    {
     "data": {
      "text/html": [
       "<div>\n",
       "<style scoped>\n",
       "    .dataframe tbody tr th:only-of-type {\n",
       "        vertical-align: middle;\n",
       "    }\n",
       "\n",
       "    .dataframe tbody tr th {\n",
       "        vertical-align: top;\n",
       "    }\n",
       "\n",
       "    .dataframe thead th {\n",
       "        text-align: right;\n",
       "    }\n",
       "</style>\n",
       "<table border=\"1\" class=\"dataframe\">\n",
       "  <thead>\n",
       "    <tr style=\"text-align: right;\">\n",
       "      <th></th>\n",
       "      <th>price</th>\n",
       "      <th>retail_price</th>\n",
       "    </tr>\n",
       "  </thead>\n",
       "  <tbody>\n",
       "    <tr>\n",
       "      <th>0</th>\n",
       "      <td>16.00</td>\n",
       "      <td>14</td>\n",
       "    </tr>\n",
       "    <tr>\n",
       "      <th>1</th>\n",
       "      <td>8.00</td>\n",
       "      <td>22</td>\n",
       "    </tr>\n",
       "    <tr>\n",
       "      <th>2</th>\n",
       "      <td>8.00</td>\n",
       "      <td>43</td>\n",
       "    </tr>\n",
       "    <tr>\n",
       "      <th>3</th>\n",
       "      <td>8.00</td>\n",
       "      <td>8</td>\n",
       "    </tr>\n",
       "    <tr>\n",
       "      <th>4</th>\n",
       "      <td>2.72</td>\n",
       "      <td>3</td>\n",
       "    </tr>\n",
       "    <tr>\n",
       "      <th>...</th>\n",
       "      <td>...</td>\n",
       "      <td>...</td>\n",
       "    </tr>\n",
       "    <tr>\n",
       "      <th>1568</th>\n",
       "      <td>6.00</td>\n",
       "      <td>9</td>\n",
       "    </tr>\n",
       "    <tr>\n",
       "      <th>1569</th>\n",
       "      <td>2.00</td>\n",
       "      <td>56</td>\n",
       "    </tr>\n",
       "    <tr>\n",
       "      <th>1570</th>\n",
       "      <td>5.00</td>\n",
       "      <td>19</td>\n",
       "    </tr>\n",
       "    <tr>\n",
       "      <th>1571</th>\n",
       "      <td>13.00</td>\n",
       "      <td>11</td>\n",
       "    </tr>\n",
       "    <tr>\n",
       "      <th>1572</th>\n",
       "      <td>7.00</td>\n",
       "      <td>6</td>\n",
       "    </tr>\n",
       "  </tbody>\n",
       "</table>\n",
       "<p>1573 rows × 2 columns</p>\n",
       "</div>"
      ],
      "text/plain": [
       "      price  retail_price\n",
       "0     16.00            14\n",
       "1      8.00            22\n",
       "2      8.00            43\n",
       "3      8.00             8\n",
       "4      2.72             3\n",
       "...     ...           ...\n",
       "1568   6.00             9\n",
       "1569   2.00            56\n",
       "1570   5.00            19\n",
       "1571  13.00            11\n",
       "1572   7.00             6\n",
       "\n",
       "[1573 rows x 2 columns]"
      ]
     },
     "execution_count": 83,
     "metadata": {},
     "output_type": "execute_result"
    }
   ],
   "source": [
    "df_rating_and_performance.loc[:, [\"price\", \"retail_price\"]] #seleccionar la columna de precios"
   ]
  },
  {
   "cell_type": "code",
   "execution_count": 84,
   "id": "a1a5376c",
   "metadata": {},
   "outputs": [
    {
     "data": {
      "text/html": [
       "<div>\n",
       "<style scoped>\n",
       "    .dataframe tbody tr th:only-of-type {\n",
       "        vertical-align: middle;\n",
       "    }\n",
       "\n",
       "    .dataframe tbody tr th {\n",
       "        vertical-align: top;\n",
       "    }\n",
       "\n",
       "    .dataframe thead th {\n",
       "        text-align: right;\n",
       "    }\n",
       "</style>\n",
       "<table border=\"1\" class=\"dataframe\">\n",
       "  <thead>\n",
       "    <tr style=\"text-align: right;\">\n",
       "      <th></th>\n",
       "      <th>rating</th>\n",
       "      <th>rating_count</th>\n",
       "      <th>rating_five_count</th>\n",
       "      <th>rating_four_count</th>\n",
       "      <th>rating_three_count</th>\n",
       "      <th>rating_two_count</th>\n",
       "      <th>rating_one_count</th>\n",
       "    </tr>\n",
       "  </thead>\n",
       "  <tbody>\n",
       "    <tr>\n",
       "      <th>0</th>\n",
       "      <td>3.76</td>\n",
       "      <td>54</td>\n",
       "      <td>26.0</td>\n",
       "      <td>8.0</td>\n",
       "      <td>10.0</td>\n",
       "      <td>1.0</td>\n",
       "      <td>9.0</td>\n",
       "    </tr>\n",
       "    <tr>\n",
       "      <th>1</th>\n",
       "      <td>3.45</td>\n",
       "      <td>6135</td>\n",
       "      <td>2269.0</td>\n",
       "      <td>1027.0</td>\n",
       "      <td>1118.0</td>\n",
       "      <td>644.0</td>\n",
       "      <td>1077.0</td>\n",
       "    </tr>\n",
       "    <tr>\n",
       "      <th>2</th>\n",
       "      <td>3.57</td>\n",
       "      <td>14</td>\n",
       "      <td>5.0</td>\n",
       "      <td>4.0</td>\n",
       "      <td>2.0</td>\n",
       "      <td>0.0</td>\n",
       "      <td>3.0</td>\n",
       "    </tr>\n",
       "    <tr>\n",
       "      <th>3</th>\n",
       "      <td>4.03</td>\n",
       "      <td>579</td>\n",
       "      <td>295.0</td>\n",
       "      <td>119.0</td>\n",
       "      <td>87.0</td>\n",
       "      <td>42.0</td>\n",
       "      <td>36.0</td>\n",
       "    </tr>\n",
       "    <tr>\n",
       "      <th>4</th>\n",
       "      <td>3.10</td>\n",
       "      <td>20</td>\n",
       "      <td>6.0</td>\n",
       "      <td>4.0</td>\n",
       "      <td>2.0</td>\n",
       "      <td>2.0</td>\n",
       "      <td>6.0</td>\n",
       "    </tr>\n",
       "    <tr>\n",
       "      <th>...</th>\n",
       "      <td>...</td>\n",
       "      <td>...</td>\n",
       "      <td>...</td>\n",
       "      <td>...</td>\n",
       "      <td>...</td>\n",
       "      <td>...</td>\n",
       "      <td>...</td>\n",
       "    </tr>\n",
       "    <tr>\n",
       "      <th>1568</th>\n",
       "      <td>4.08</td>\n",
       "      <td>1367</td>\n",
       "      <td>722.0</td>\n",
       "      <td>293.0</td>\n",
       "      <td>185.0</td>\n",
       "      <td>77.0</td>\n",
       "      <td>90.0</td>\n",
       "    </tr>\n",
       "    <tr>\n",
       "      <th>1569</th>\n",
       "      <td>3.07</td>\n",
       "      <td>28</td>\n",
       "      <td>11.0</td>\n",
       "      <td>3.0</td>\n",
       "      <td>1.0</td>\n",
       "      <td>3.0</td>\n",
       "      <td>10.0</td>\n",
       "    </tr>\n",
       "    <tr>\n",
       "      <th>1570</th>\n",
       "      <td>3.71</td>\n",
       "      <td>59</td>\n",
       "      <td>24.0</td>\n",
       "      <td>15.0</td>\n",
       "      <td>8.0</td>\n",
       "      <td>3.0</td>\n",
       "      <td>9.0</td>\n",
       "    </tr>\n",
       "    <tr>\n",
       "      <th>1571</th>\n",
       "      <td>2.50</td>\n",
       "      <td>2</td>\n",
       "      <td>0.0</td>\n",
       "      <td>1.0</td>\n",
       "      <td>0.0</td>\n",
       "      <td>0.0</td>\n",
       "      <td>1.0</td>\n",
       "    </tr>\n",
       "    <tr>\n",
       "      <th>1572</th>\n",
       "      <td>4.07</td>\n",
       "      <td>14</td>\n",
       "      <td>8.0</td>\n",
       "      <td>3.0</td>\n",
       "      <td>1.0</td>\n",
       "      <td>0.0</td>\n",
       "      <td>2.0</td>\n",
       "    </tr>\n",
       "  </tbody>\n",
       "</table>\n",
       "<p>1573 rows × 7 columns</p>\n",
       "</div>"
      ],
      "text/plain": [
       "      rating  rating_count  rating_five_count  rating_four_count  \\\n",
       "0       3.76            54               26.0                8.0   \n",
       "1       3.45          6135             2269.0             1027.0   \n",
       "2       3.57            14                5.0                4.0   \n",
       "3       4.03           579              295.0              119.0   \n",
       "4       3.10            20                6.0                4.0   \n",
       "...      ...           ...                ...                ...   \n",
       "1568    4.08          1367              722.0              293.0   \n",
       "1569    3.07            28               11.0                3.0   \n",
       "1570    3.71            59               24.0               15.0   \n",
       "1571    2.50             2                0.0                1.0   \n",
       "1572    4.07            14                8.0                3.0   \n",
       "\n",
       "      rating_three_count  rating_two_count  rating_one_count  \n",
       "0                   10.0               1.0               9.0  \n",
       "1                 1118.0             644.0            1077.0  \n",
       "2                    2.0               0.0               3.0  \n",
       "3                   87.0              42.0              36.0  \n",
       "4                    2.0               2.0               6.0  \n",
       "...                  ...               ...               ...  \n",
       "1568               185.0              77.0              90.0  \n",
       "1569                 1.0               3.0              10.0  \n",
       "1570                 8.0               3.0               9.0  \n",
       "1571                 0.0               0.0               1.0  \n",
       "1572                 1.0               0.0               2.0  \n",
       "\n",
       "[1573 rows x 7 columns]"
      ]
     },
     "execution_count": 84,
     "metadata": {},
     "output_type": "execute_result"
    }
   ],
   "source": [
    "df_rating_and_performance.loc[:, [\"rating\", \"rating_count\", \"rating_five_count\", \"rating_four_count\", \"rating_three_count\", \"rating_two_count\", \"rating_one_count\"]] #seleccionar la columna de precios"
   ]
  },
  {
   "cell_type": "code",
   "execution_count": 88,
   "id": "d171f1b2",
   "metadata": {},
   "outputs": [
    {
     "data": {
      "text/html": [
       "<div>\n",
       "<style scoped>\n",
       "    .dataframe tbody tr th:only-of-type {\n",
       "        vertical-align: middle;\n",
       "    }\n",
       "\n",
       "    .dataframe tbody tr th {\n",
       "        vertical-align: top;\n",
       "    }\n",
       "\n",
       "    .dataframe thead th {\n",
       "        text-align: right;\n",
       "    }\n",
       "</style>\n",
       "<table border=\"1\" class=\"dataframe\">\n",
       "  <thead>\n",
       "    <tr style=\"text-align: right;\">\n",
       "      <th></th>\n",
       "      <th>index</th>\n",
       "      <th>title</th>\n",
       "      <th>title_orig</th>\n",
       "      <th>price</th>\n",
       "      <th>retail_price</th>\n",
       "      <th>currency_buyer</th>\n",
       "      <th>units_sold</th>\n",
       "      <th>uses_ad_boosts</th>\n",
       "      <th>rating</th>\n",
       "      <th>rating_count</th>\n",
       "      <th>...</th>\n",
       "      <th>merchant_rating_count</th>\n",
       "      <th>merchant_rating</th>\n",
       "      <th>merchant_id</th>\n",
       "      <th>merchant_has_profile_picture</th>\n",
       "      <th>merchant_profile_picture</th>\n",
       "      <th>product_url</th>\n",
       "      <th>product_picture</th>\n",
       "      <th>product_id</th>\n",
       "      <th>theme</th>\n",
       "      <th>crawl_month</th>\n",
       "    </tr>\n",
       "  </thead>\n",
       "  <tbody>\n",
       "    <tr>\n",
       "      <th>1</th>\n",
       "      <td>1</td>\n",
       "      <td>SSHOUSE Summer Casual Sleeveless Soirée Party ...</td>\n",
       "      <td>Women's Casual Summer Sleeveless Sexy Mini Dress</td>\n",
       "      <td>8.0</td>\n",
       "      <td>22</td>\n",
       "      <td>EUR</td>\n",
       "      <td>20000</td>\n",
       "      <td>1</td>\n",
       "      <td>3.45</td>\n",
       "      <td>6135</td>\n",
       "      <td>...</td>\n",
       "      <td>17752</td>\n",
       "      <td>3.899673</td>\n",
       "      <td>56458aa03a698c35c9050988</td>\n",
       "      <td>0</td>\n",
       "      <td>NaN</td>\n",
       "      <td>https://www.wish.com/c/58940d436a0d3d5da4e95a38</td>\n",
       "      <td>https://contestimg.wish.com/api/webimage/58940...</td>\n",
       "      <td>58940d436a0d3d5da4e95a38</td>\n",
       "      <td>summer</td>\n",
       "      <td>2020-08</td>\n",
       "    </tr>\n",
       "    <tr>\n",
       "      <th>6</th>\n",
       "      <td>6</td>\n",
       "      <td>Women Fashion Loose Lace Blouse Blouse V Neck ...</td>\n",
       "      <td>Women Fashion Loose Lace Blouse V Neck Bat Sle...</td>\n",
       "      <td>7.0</td>\n",
       "      <td>6</td>\n",
       "      <td>EUR</td>\n",
       "      <td>50000</td>\n",
       "      <td>0</td>\n",
       "      <td>3.84</td>\n",
       "      <td>6742</td>\n",
       "      <td>...</td>\n",
       "      <td>10194</td>\n",
       "      <td>4.076516</td>\n",
       "      <td>5652f4053a698c76dc9a3f37</td>\n",
       "      <td>1</td>\n",
       "      <td>https://s3-us-west-1.amazonaws.com/sweeper-pro...</td>\n",
       "      <td>https://www.wish.com/c/5c63a337d5e2ce4bbb3152cf</td>\n",
       "      <td>https://contestimg.wish.com/api/webimage/5c63a...</td>\n",
       "      <td>5c63a337d5e2ce4bbb3152cf</td>\n",
       "      <td>summer</td>\n",
       "      <td>2020-08</td>\n",
       "    </tr>\n",
       "    <tr>\n",
       "      <th>14</th>\n",
       "      <td>14</td>\n",
       "      <td>2019 Summer Women's Fashion Nouvelle robe sans...</td>\n",
       "      <td>2019 Summer Women's Fashion New Sleeveless Pol...</td>\n",
       "      <td>2.0</td>\n",
       "      <td>2</td>\n",
       "      <td>EUR</td>\n",
       "      <td>20000</td>\n",
       "      <td>1</td>\n",
       "      <td>3.65</td>\n",
       "      <td>2457</td>\n",
       "      <td>...</td>\n",
       "      <td>55499</td>\n",
       "      <td>4.138885</td>\n",
       "      <td>5926c5ace8ff5525241b368d</td>\n",
       "      <td>0</td>\n",
       "      <td>NaN</td>\n",
       "      <td>https://www.wish.com/c/5cc2ce18bc97595b6549fa14</td>\n",
       "      <td>https://contestimg.wish.com/api/webimage/5cc2c...</td>\n",
       "      <td>5cc2ce18bc97595b6549fa14</td>\n",
       "      <td>summer</td>\n",
       "      <td>2020-08</td>\n",
       "    </tr>\n",
       "  </tbody>\n",
       "</table>\n",
       "<p>3 rows × 44 columns</p>\n",
       "</div>"
      ],
      "text/plain": [
       "    index                                              title  \\\n",
       "1       1  SSHOUSE Summer Casual Sleeveless Soirée Party ...   \n",
       "6       6  Women Fashion Loose Lace Blouse Blouse V Neck ...   \n",
       "14     14  2019 Summer Women's Fashion Nouvelle robe sans...   \n",
       "\n",
       "                                           title_orig  price  retail_price  \\\n",
       "1    Women's Casual Summer Sleeveless Sexy Mini Dress    8.0            22   \n",
       "6   Women Fashion Loose Lace Blouse V Neck Bat Sle...    7.0             6   \n",
       "14  2019 Summer Women's Fashion New Sleeveless Pol...    2.0             2   \n",
       "\n",
       "   currency_buyer  units_sold  uses_ad_boosts  rating  rating_count  ...  \\\n",
       "1             EUR       20000               1    3.45          6135  ...   \n",
       "6             EUR       50000               0    3.84          6742  ...   \n",
       "14            EUR       20000               1    3.65          2457  ...   \n",
       "\n",
       "    merchant_rating_count  merchant_rating               merchant_id  \\\n",
       "1                   17752         3.899673  56458aa03a698c35c9050988   \n",
       "6                   10194         4.076516  5652f4053a698c76dc9a3f37   \n",
       "14                  55499         4.138885  5926c5ace8ff5525241b368d   \n",
       "\n",
       "    merchant_has_profile_picture  \\\n",
       "1                              0   \n",
       "6                              1   \n",
       "14                             0   \n",
       "\n",
       "                             merchant_profile_picture  \\\n",
       "1                                                 NaN   \n",
       "6   https://s3-us-west-1.amazonaws.com/sweeper-pro...   \n",
       "14                                                NaN   \n",
       "\n",
       "                                        product_url  \\\n",
       "1   https://www.wish.com/c/58940d436a0d3d5da4e95a38   \n",
       "6   https://www.wish.com/c/5c63a337d5e2ce4bbb3152cf   \n",
       "14  https://www.wish.com/c/5cc2ce18bc97595b6549fa14   \n",
       "\n",
       "                                      product_picture  \\\n",
       "1   https://contestimg.wish.com/api/webimage/58940...   \n",
       "6   https://contestimg.wish.com/api/webimage/5c63a...   \n",
       "14  https://contestimg.wish.com/api/webimage/5cc2c...   \n",
       "\n",
       "                  product_id   theme crawl_month  \n",
       "1   58940d436a0d3d5da4e95a38  summer     2020-08  \n",
       "6   5c63a337d5e2ce4bbb3152cf  summer     2020-08  \n",
       "14  5cc2ce18bc97595b6549fa14  summer     2020-08  \n",
       "\n",
       "[3 rows x 44 columns]"
      ]
     },
     "execution_count": 88,
     "metadata": {},
     "output_type": "execute_result"
    }
   ],
   "source": [
    "#Extraed las las filas cuyo precio sea mayor que 10 y sus unidades vendidas (\"units_sold\") sea mayor que 5000\n",
    "df_rating_and_performance[(df_rating_and_performance[\"price\"] < 10) & (df_rating_and_performance[\"units_sold\"] > 5000)].head(3)"
   ]
  },
  {
   "cell_type": "code",
   "execution_count": 97,
   "id": "821b789b",
   "metadata": {},
   "outputs": [
    {
     "data": {
      "text/plain": [
       "0    16.0\n",
       "1     8.0\n",
       "2     8.0\n",
       "Name: price, dtype: float64"
      ]
     },
     "execution_count": 97,
     "metadata": {},
     "output_type": "execute_result"
    }
   ],
   "source": [
    "iloc_price = df_rating_and_performance.iloc[ : , 3]#seleccionar la columna de precios\n",
    "iloc_price.head(3)"
   ]
  },
  {
   "cell_type": "code",
   "execution_count": 98,
   "id": "a6039c28",
   "metadata": {},
   "outputs": [
    {
     "data": {
      "text/html": [
       "<div>\n",
       "<style scoped>\n",
       "    .dataframe tbody tr th:only-of-type {\n",
       "        vertical-align: middle;\n",
       "    }\n",
       "\n",
       "    .dataframe tbody tr th {\n",
       "        vertical-align: top;\n",
       "    }\n",
       "\n",
       "    .dataframe thead th {\n",
       "        text-align: right;\n",
       "    }\n",
       "</style>\n",
       "<table border=\"1\" class=\"dataframe\">\n",
       "  <thead>\n",
       "    <tr style=\"text-align: right;\">\n",
       "      <th></th>\n",
       "      <th>price</th>\n",
       "      <th>retail_price</th>\n",
       "    </tr>\n",
       "  </thead>\n",
       "  <tbody>\n",
       "    <tr>\n",
       "      <th>0</th>\n",
       "      <td>16.00</td>\n",
       "      <td>14</td>\n",
       "    </tr>\n",
       "    <tr>\n",
       "      <th>1</th>\n",
       "      <td>8.00</td>\n",
       "      <td>22</td>\n",
       "    </tr>\n",
       "    <tr>\n",
       "      <th>2</th>\n",
       "      <td>8.00</td>\n",
       "      <td>43</td>\n",
       "    </tr>\n",
       "    <tr>\n",
       "      <th>3</th>\n",
       "      <td>8.00</td>\n",
       "      <td>8</td>\n",
       "    </tr>\n",
       "    <tr>\n",
       "      <th>4</th>\n",
       "      <td>2.72</td>\n",
       "      <td>3</td>\n",
       "    </tr>\n",
       "    <tr>\n",
       "      <th>...</th>\n",
       "      <td>...</td>\n",
       "      <td>...</td>\n",
       "    </tr>\n",
       "    <tr>\n",
       "      <th>1568</th>\n",
       "      <td>6.00</td>\n",
       "      <td>9</td>\n",
       "    </tr>\n",
       "    <tr>\n",
       "      <th>1569</th>\n",
       "      <td>2.00</td>\n",
       "      <td>56</td>\n",
       "    </tr>\n",
       "    <tr>\n",
       "      <th>1570</th>\n",
       "      <td>5.00</td>\n",
       "      <td>19</td>\n",
       "    </tr>\n",
       "    <tr>\n",
       "      <th>1571</th>\n",
       "      <td>13.00</td>\n",
       "      <td>11</td>\n",
       "    </tr>\n",
       "    <tr>\n",
       "      <th>1572</th>\n",
       "      <td>7.00</td>\n",
       "      <td>6</td>\n",
       "    </tr>\n",
       "  </tbody>\n",
       "</table>\n",
       "<p>1573 rows × 2 columns</p>\n",
       "</div>"
      ],
      "text/plain": [
       "      price  retail_price\n",
       "0     16.00            14\n",
       "1      8.00            22\n",
       "2      8.00            43\n",
       "3      8.00             8\n",
       "4      2.72             3\n",
       "...     ...           ...\n",
       "1568   6.00             9\n",
       "1569   2.00            56\n",
       "1570   5.00            19\n",
       "1571  13.00            11\n",
       "1572   7.00             6\n",
       "\n",
       "[1573 rows x 2 columns]"
      ]
     },
     "execution_count": 98,
     "metadata": {},
     "output_type": "execute_result"
    }
   ],
   "source": [
    "df_rating_and_performance.iloc[:, [3,4]] #seleccionar la columna de precios"
   ]
  },
  {
   "cell_type": "code",
   "execution_count": 103,
   "id": "f676f03b",
   "metadata": {},
   "outputs": [
    {
     "data": {
      "text/html": [
       "<div>\n",
       "<style scoped>\n",
       "    .dataframe tbody tr th:only-of-type {\n",
       "        vertical-align: middle;\n",
       "    }\n",
       "\n",
       "    .dataframe tbody tr th {\n",
       "        vertical-align: top;\n",
       "    }\n",
       "\n",
       "    .dataframe thead th {\n",
       "        text-align: right;\n",
       "    }\n",
       "</style>\n",
       "<table border=\"1\" class=\"dataframe\">\n",
       "  <thead>\n",
       "    <tr style=\"text-align: right;\">\n",
       "      <th></th>\n",
       "      <th>rating</th>\n",
       "      <th>rating_count</th>\n",
       "      <th>rating_five_count</th>\n",
       "      <th>rating_four_count</th>\n",
       "      <th>rating_three_count</th>\n",
       "      <th>rating_two_count</th>\n",
       "      <th>rating_one_count</th>\n",
       "    </tr>\n",
       "  </thead>\n",
       "  <tbody>\n",
       "    <tr>\n",
       "      <th>0</th>\n",
       "      <td>3.76</td>\n",
       "      <td>54</td>\n",
       "      <td>26.0</td>\n",
       "      <td>8.0</td>\n",
       "      <td>10.0</td>\n",
       "      <td>1.0</td>\n",
       "      <td>9.0</td>\n",
       "    </tr>\n",
       "    <tr>\n",
       "      <th>1</th>\n",
       "      <td>3.45</td>\n",
       "      <td>6135</td>\n",
       "      <td>2269.0</td>\n",
       "      <td>1027.0</td>\n",
       "      <td>1118.0</td>\n",
       "      <td>644.0</td>\n",
       "      <td>1077.0</td>\n",
       "    </tr>\n",
       "    <tr>\n",
       "      <th>2</th>\n",
       "      <td>3.57</td>\n",
       "      <td>14</td>\n",
       "      <td>5.0</td>\n",
       "      <td>4.0</td>\n",
       "      <td>2.0</td>\n",
       "      <td>0.0</td>\n",
       "      <td>3.0</td>\n",
       "    </tr>\n",
       "    <tr>\n",
       "      <th>3</th>\n",
       "      <td>4.03</td>\n",
       "      <td>579</td>\n",
       "      <td>295.0</td>\n",
       "      <td>119.0</td>\n",
       "      <td>87.0</td>\n",
       "      <td>42.0</td>\n",
       "      <td>36.0</td>\n",
       "    </tr>\n",
       "    <tr>\n",
       "      <th>4</th>\n",
       "      <td>3.10</td>\n",
       "      <td>20</td>\n",
       "      <td>6.0</td>\n",
       "      <td>4.0</td>\n",
       "      <td>2.0</td>\n",
       "      <td>2.0</td>\n",
       "      <td>6.0</td>\n",
       "    </tr>\n",
       "    <tr>\n",
       "      <th>...</th>\n",
       "      <td>...</td>\n",
       "      <td>...</td>\n",
       "      <td>...</td>\n",
       "      <td>...</td>\n",
       "      <td>...</td>\n",
       "      <td>...</td>\n",
       "      <td>...</td>\n",
       "    </tr>\n",
       "    <tr>\n",
       "      <th>1568</th>\n",
       "      <td>4.08</td>\n",
       "      <td>1367</td>\n",
       "      <td>722.0</td>\n",
       "      <td>293.0</td>\n",
       "      <td>185.0</td>\n",
       "      <td>77.0</td>\n",
       "      <td>90.0</td>\n",
       "    </tr>\n",
       "    <tr>\n",
       "      <th>1569</th>\n",
       "      <td>3.07</td>\n",
       "      <td>28</td>\n",
       "      <td>11.0</td>\n",
       "      <td>3.0</td>\n",
       "      <td>1.0</td>\n",
       "      <td>3.0</td>\n",
       "      <td>10.0</td>\n",
       "    </tr>\n",
       "    <tr>\n",
       "      <th>1570</th>\n",
       "      <td>3.71</td>\n",
       "      <td>59</td>\n",
       "      <td>24.0</td>\n",
       "      <td>15.0</td>\n",
       "      <td>8.0</td>\n",
       "      <td>3.0</td>\n",
       "      <td>9.0</td>\n",
       "    </tr>\n",
       "    <tr>\n",
       "      <th>1571</th>\n",
       "      <td>2.50</td>\n",
       "      <td>2</td>\n",
       "      <td>0.0</td>\n",
       "      <td>1.0</td>\n",
       "      <td>0.0</td>\n",
       "      <td>0.0</td>\n",
       "      <td>1.0</td>\n",
       "    </tr>\n",
       "    <tr>\n",
       "      <th>1572</th>\n",
       "      <td>4.07</td>\n",
       "      <td>14</td>\n",
       "      <td>8.0</td>\n",
       "      <td>3.0</td>\n",
       "      <td>1.0</td>\n",
       "      <td>0.0</td>\n",
       "      <td>2.0</td>\n",
       "    </tr>\n",
       "  </tbody>\n",
       "</table>\n",
       "<p>1573 rows × 7 columns</p>\n",
       "</div>"
      ],
      "text/plain": [
       "      rating  rating_count  rating_five_count  rating_four_count  \\\n",
       "0       3.76            54               26.0                8.0   \n",
       "1       3.45          6135             2269.0             1027.0   \n",
       "2       3.57            14                5.0                4.0   \n",
       "3       4.03           579              295.0              119.0   \n",
       "4       3.10            20                6.0                4.0   \n",
       "...      ...           ...                ...                ...   \n",
       "1568    4.08          1367              722.0              293.0   \n",
       "1569    3.07            28               11.0                3.0   \n",
       "1570    3.71            59               24.0               15.0   \n",
       "1571    2.50             2                0.0                1.0   \n",
       "1572    4.07            14                8.0                3.0   \n",
       "\n",
       "      rating_three_count  rating_two_count  rating_one_count  \n",
       "0                   10.0               1.0               9.0  \n",
       "1                 1118.0             644.0            1077.0  \n",
       "2                    2.0               0.0               3.0  \n",
       "3                   87.0              42.0              36.0  \n",
       "4                    2.0               2.0               6.0  \n",
       "...                  ...               ...               ...  \n",
       "1568               185.0              77.0              90.0  \n",
       "1569                 1.0               3.0              10.0  \n",
       "1570                 8.0               3.0               9.0  \n",
       "1571                 0.0               0.0               1.0  \n",
       "1572                 1.0               0.0               2.0  \n",
       "\n",
       "[1573 rows x 7 columns]"
      ]
     },
     "execution_count": 103,
     "metadata": {},
     "output_type": "execute_result"
    }
   ],
   "source": [
    "df_rating_and_performance.iloc[:, 8:15] #seleccionar la columna de precios"
   ]
  },
  {
   "cell_type": "code",
   "execution_count": 111,
   "id": "1d991067",
   "metadata": {},
   "outputs": [
    {
     "data": {
      "text/html": [
       "<div>\n",
       "<style scoped>\n",
       "    .dataframe tbody tr th:only-of-type {\n",
       "        vertical-align: middle;\n",
       "    }\n",
       "\n",
       "    .dataframe tbody tr th {\n",
       "        vertical-align: top;\n",
       "    }\n",
       "\n",
       "    .dataframe thead th {\n",
       "        text-align: right;\n",
       "    }\n",
       "</style>\n",
       "<table border=\"1\" class=\"dataframe\">\n",
       "  <thead>\n",
       "    <tr style=\"text-align: right;\">\n",
       "      <th></th>\n",
       "      <th>index</th>\n",
       "      <th>title</th>\n",
       "      <th>title_orig</th>\n",
       "      <th>price</th>\n",
       "      <th>retail_price</th>\n",
       "      <th>currency_buyer</th>\n",
       "      <th>units_sold</th>\n",
       "      <th>uses_ad_boosts</th>\n",
       "      <th>rating</th>\n",
       "      <th>rating_count</th>\n",
       "      <th>...</th>\n",
       "      <th>merchant_rating_count</th>\n",
       "      <th>merchant_rating</th>\n",
       "      <th>merchant_id</th>\n",
       "      <th>merchant_has_profile_picture</th>\n",
       "      <th>merchant_profile_picture</th>\n",
       "      <th>product_url</th>\n",
       "      <th>product_picture</th>\n",
       "      <th>product_id</th>\n",
       "      <th>theme</th>\n",
       "      <th>crawl_month</th>\n",
       "    </tr>\n",
       "  </thead>\n",
       "  <tbody>\n",
       "    <tr>\n",
       "      <th>196</th>\n",
       "      <td>196</td>\n",
       "      <td>Mode féminine Vintage évider robe en dentelle ...</td>\n",
       "      <td>Women's Fashion Vintage Hollow Out Lace Dress ...</td>\n",
       "      <td>22.0</td>\n",
       "      <td>169</td>\n",
       "      <td>EUR</td>\n",
       "      <td>1000</td>\n",
       "      <td>1</td>\n",
       "      <td>3.38</td>\n",
       "      <td>542</td>\n",
       "      <td>...</td>\n",
       "      <td>9341</td>\n",
       "      <td>4.147415</td>\n",
       "      <td>5b7ecbfa7956ef54b750df16</td>\n",
       "      <td>0</td>\n",
       "      <td>NaN</td>\n",
       "      <td>https://www.wish.com/c/5c6275876c0cb22f5e6ba570</td>\n",
       "      <td>https://contestimg.wish.com/api/webimage/5c627...</td>\n",
       "      <td>5c6275876c0cb22f5e6ba570</td>\n",
       "      <td>summer</td>\n",
       "      <td>2020-08</td>\n",
       "    </tr>\n",
       "    <tr>\n",
       "      <th>467</th>\n",
       "      <td>467</td>\n",
       "      <td>Palm Angels Sanskrit T-shirt court Hip Hop Str...</td>\n",
       "      <td>Palm Angels Sanskrit Short T-shirt Hip Hop Str...</td>\n",
       "      <td>22.0</td>\n",
       "      <td>159</td>\n",
       "      <td>EUR</td>\n",
       "      <td>1000</td>\n",
       "      <td>0</td>\n",
       "      <td>4.04</td>\n",
       "      <td>235</td>\n",
       "      <td>...</td>\n",
       "      <td>541</td>\n",
       "      <td>4.097967</td>\n",
       "      <td>55e51e53c9f8235d17759948</td>\n",
       "      <td>0</td>\n",
       "      <td>NaN</td>\n",
       "      <td>https://www.wish.com/c/5e573e6360f35b2661fff9dc</td>\n",
       "      <td>https://contestimg.wish.com/api/webimage/5e573...</td>\n",
       "      <td>5e573e6360f35b2661fff9dc</td>\n",
       "      <td>summer</td>\n",
       "      <td>2020-08</td>\n",
       "    </tr>\n",
       "  </tbody>\n",
       "</table>\n",
       "<p>2 rows × 44 columns</p>\n",
       "</div>"
      ],
      "text/plain": [
       "     index                                              title  \\\n",
       "196    196  Mode féminine Vintage évider robe en dentelle ...   \n",
       "467    467  Palm Angels Sanskrit T-shirt court Hip Hop Str...   \n",
       "\n",
       "                                            title_orig  price  retail_price  \\\n",
       "196  Women's Fashion Vintage Hollow Out Lace Dress ...   22.0           169   \n",
       "467  Palm Angels Sanskrit Short T-shirt Hip Hop Str...   22.0           159   \n",
       "\n",
       "    currency_buyer  units_sold  uses_ad_boosts  rating  rating_count  ...  \\\n",
       "196            EUR        1000               1    3.38           542  ...   \n",
       "467            EUR        1000               0    4.04           235  ...   \n",
       "\n",
       "     merchant_rating_count  merchant_rating               merchant_id  \\\n",
       "196                   9341         4.147415  5b7ecbfa7956ef54b750df16   \n",
       "467                    541         4.097967  55e51e53c9f8235d17759948   \n",
       "\n",
       "     merchant_has_profile_picture  merchant_profile_picture  \\\n",
       "196                             0                       NaN   \n",
       "467                             0                       NaN   \n",
       "\n",
       "                                         product_url  \\\n",
       "196  https://www.wish.com/c/5c6275876c0cb22f5e6ba570   \n",
       "467  https://www.wish.com/c/5e573e6360f35b2661fff9dc   \n",
       "\n",
       "                                       product_picture  \\\n",
       "196  https://contestimg.wish.com/api/webimage/5c627...   \n",
       "467  https://contestimg.wish.com/api/webimage/5e573...   \n",
       "\n",
       "                   product_id   theme crawl_month  \n",
       "196  5c6275876c0cb22f5e6ba570  summer     2020-08  \n",
       "467  5e573e6360f35b2661fff9dc  summer     2020-08  \n",
       "\n",
       "[2 rows x 44 columns]"
      ]
     },
     "execution_count": 111,
     "metadata": {},
     "output_type": "execute_result"
    }
   ],
   "source": [
    "df_rating_and_performance.loc[(df_rating_and_performance.price > 20) & (df_rating_and_performance.rating <= 4.08)].head(2) #seleccionar las filas donde el precio sea mayor que 20 y la calificación sea 4.08"
   ]
  }
 ],
 "metadata": {
  "kernelspec": {
   "display_name": "base",
   "language": "python",
   "name": "python3"
  },
  "language_info": {
   "codemirror_mode": {
    "name": "ipython",
    "version": 3
   },
   "file_extension": ".py",
   "mimetype": "text/x-python",
   "name": "python",
   "nbconvert_exporter": "python",
   "pygments_lexer": "ipython3",
   "version": "3.12.7"
  }
 },
 "nbformat": 4,
 "nbformat_minor": 5
}
