{
 "cells": [
  {
   "cell_type": "markdown",
   "id": "ac336903",
   "metadata": {},
   "source": [
    "## 5. GROUP BY Y APPLY, EXERCIZES"
   ]
  },
  {
   "cell_type": "markdown",
   "id": "0e67061e",
   "metadata": {},
   "source": [
    "july 29,2025"
   ]
  },
  {
   "cell_type": "markdown",
   "id": "a60e532b",
   "metadata": {},
   "source": [
    "\n",
    "#1.Total de unidades vendidas por país de origen del vendedor. Debéis agrupar los datos según el país de origen del vendedor y calcular el total de unidades vendidas para cada país. Esto nos dará una idea de qué países tienen una mayor participación en las ventas totales y cuáles tienen menos. Devuelve los resultados en un DataFrame ordenados de mayor a menor en función de la cantidad de unidades vendidas."
   ]
  },
  {
   "cell_type": "code",
   "execution_count": 3,
   "id": "a55058b3",
   "metadata": {},
   "outputs": [],
   "source": [
    "import pandas as pd"
   ]
  },
  {
   "cell_type": "code",
   "execution_count": 4,
   "id": "aac9302e",
   "metadata": {},
   "outputs": [],
   "source": [
    "import numpy as np"
   ]
  },
  {
   "cell_type": "code",
   "execution_count": 5,
   "id": "67af55a8",
   "metadata": {},
   "outputs": [],
   "source": [
    "pd.set_option('display.max_columns', None)"
   ]
  },
  {
   "cell_type": "code",
   "execution_count": 6,
   "id": "edc1fda1",
   "metadata": {},
   "outputs": [],
   "source": [
    "df = pd.read_csv('/Users/alejandramartinsevilla/Desktop/merchant_fill.csv')"
   ]
  },
  {
   "cell_type": "code",
   "execution_count": 7,
   "id": "e0766882",
   "metadata": {},
   "outputs": [
    {
     "data": {
      "application/vnd.microsoft.datawrangler.viewer.v0+json": {
       "columns": [
        {
         "name": "index",
         "rawType": "int64",
         "type": "integer"
        },
        {
         "name": "Unnamed: 0",
         "rawType": "int64",
         "type": "integer"
        },
        {
         "name": "title",
         "rawType": "object",
         "type": "string"
        },
        {
         "name": "price",
         "rawType": "float64",
         "type": "float"
        },
        {
         "name": "retail_price",
         "rawType": "int64",
         "type": "integer"
        },
        {
         "name": "units_sold",
         "rawType": "int64",
         "type": "integer"
        },
        {
         "name": "uses_ad_boosts",
         "rawType": "int64",
         "type": "integer"
        },
        {
         "name": "rating_sold",
         "rawType": "float64",
         "type": "float"
        },
        {
         "name": "rating_count",
         "rawType": "int64",
         "type": "integer"
        },
        {
         "name": "rating_five_count",
         "rawType": "float64",
         "type": "float"
        },
        {
         "name": "rating_four_count",
         "rawType": "float64",
         "type": "float"
        },
        {
         "name": "rating_three_count",
         "rawType": "float64",
         "type": "float"
        },
        {
         "name": "rating_two_count",
         "rawType": "float64",
         "type": "float"
        },
        {
         "name": "rating_one_count",
         "rawType": "float64",
         "type": "float"
        },
        {
         "name": "badge_local_product",
         "rawType": "int64",
         "type": "integer"
        },
        {
         "name": "badge_product_quality",
         "rawType": "int64",
         "type": "integer"
        },
        {
         "name": "badge_fast_shipping",
         "rawType": "int64",
         "type": "integer"
        },
        {
         "name": "tags",
         "rawType": "object",
         "type": "string"
        },
        {
         "name": "product_color",
         "rawType": "object",
         "type": "string"
        },
        {
         "name": "product_variation_size_id",
         "rawType": "object",
         "type": "string"
        },
        {
         "name": "shipping_option_name",
         "rawType": "object",
         "type": "string"
        },
        {
         "name": "shipping_option_price",
         "rawType": "int64",
         "type": "integer"
        },
        {
         "name": "shipping_is_express",
         "rawType": "int64",
         "type": "integer"
        },
        {
         "name": "countries_shipped_to",
         "rawType": "int64",
         "type": "integer"
        },
        {
         "name": "inventory_total",
         "rawType": "int64",
         "type": "integer"
        },
        {
         "name": "origin_country",
         "rawType": "object",
         "type": "string"
        },
        {
         "name": "merchant_name",
         "rawType": "object",
         "type": "string"
        },
        {
         "name": "merchant_info_subtitle",
         "rawType": "object",
         "type": "unknown"
        },
        {
         "name": "merchant_rating_count",
         "rawType": "int64",
         "type": "integer"
        },
        {
         "name": "merchant_rating",
         "rawType": "float64",
         "type": "float"
        },
        {
         "name": "merchant_id",
         "rawType": "object",
         "type": "string"
        },
        {
         "name": "product_url",
         "rawType": "object",
         "type": "string"
        },
        {
         "name": "product_id",
         "rawType": "object",
         "type": "string"
        },
        {
         "name": "listed_products",
         "rawType": "int64",
         "type": "integer"
        },
        {
         "name": "total_units_sold",
         "rawType": "int64",
         "type": "integer"
        },
        {
         "name": "mean_units_sold_per_product",
         "rawType": "float64",
         "type": "float"
        },
        {
         "name": "rating_employee",
         "rawType": "float64",
         "type": "float"
        },
        {
         "name": "merchant_ratings_count",
         "rawType": "float64",
         "type": "float"
        },
        {
         "name": "mean_product_prices",
         "rawType": "float64",
         "type": "float"
        },
        {
         "name": "mean_retail_prices",
         "rawType": "float64",
         "type": "float"
        },
        {
         "name": "average_discount",
         "rawType": "float64",
         "type": "float"
        },
        {
         "name": "mean_discount",
         "rawType": "float64",
         "type": "float"
        },
        {
         "name": "mean_product_ratings_count",
         "rawType": "float64",
         "type": "float"
        }
       ],
       "ref": "ffe43af9-439f-40ed-bff9-53c719c307d1",
       "rows": [
        [
         "0",
         "0",
         "2020 Summer Vintage Flamingo Print  Pajamas Set Casual Loose T Shirt Top And Elastic Shorts Women Sleepwear Night Wear Loungewear Sets",
         "16.0",
         "14",
         "100",
         "0",
         "3.76",
         "54",
         "26.0",
         "8.0",
         "10.0",
         "1.0",
         "9.0",
         "0",
         "0",
         "0",
         "Summer,Fashion,womenunderwearsuit,printedpajamasset,womencasualshort,Women's Fashion,flamingo,loungewearset,Casual,Shirt,casualsleepwear,Shorts,flamingotshirt,Elastic,Vintage,Tops,tshirtandshortsset,Women,Sleepwear,Print,womenpajamasset,womennightwear,Pajamas,womensleepwearset",
         "white",
         "M",
         "Livraison standard",
         "4",
         "0",
         "34",
         "50",
         "CN",
         "zgrdejia",
         null,
         "568",
         "4.128521126760563",
         "595097d6a26f6e070cb878d1",
         "https://www.wish.com/c/5e9ae51d43d6a96e303acdb0",
         "5e9ae51d43d6a96e303acdb0",
         "1",
         "100",
         "100.0",
         "4.129",
         "568.0",
         "16.0",
         "14.0",
         "-14.0",
         "-14.0",
         "54.0"
        ],
        [
         "1",
         "1",
         "SSHOUSE Summer Casual Sleeveless Soirée Party Soirée sans manches Vêtements de plage sexy Mini robe femme wshC1612242400387A21",
         "8.0",
         "22",
         "20000",
         "1",
         "3.45",
         "6135",
         "2269.0",
         "1027.0",
         "1118.0",
         "644.0",
         "1077.0",
         "0",
         "0",
         "0",
         "Mini,womens dresses,Summer,Patchwork,fashion dress,Dress,Mini dress,Women's Fashion,Women S Clothing,backless,party,summer dresses,sleeveless,sexy,Casual",
         "green",
         "XS",
         "Livraison standard",
         "2",
         "0",
         "41",
         "50",
         "CN",
         "sarahouse",
         "83 % avis positifs ",
         "17752",
         "3.8996732762505633",
         "56458aa03a698c35c9050988",
         "https://www.wish.com/c/58940d436a0d3d5da4e95a38",
         "58940d436a0d3d5da4e95a38",
         "6",
         "21400",
         "3567.0",
         "3.9",
         "17752.0",
         "5.68",
         "10.33",
         "38.0",
         "37.83",
         "1057.0"
        ],
        [
         "2",
         "2",
         "Nouvelle mode d'été femmes robe décontractée col rond lâche Big Swing jupe sans manches Soild couleur robe de plage",
         "4.9",
         "8",
         "1000",
         "1",
         "3.83",
         "99",
         "43.0",
         "18.0",
         "23.0",
         "8.0",
         "7.0",
         "0",
         "0",
         "0",
         "Summer,Fashion,Necks,Beach,Dress,Loose,beach dress,Round neck,Women's Fashion,sleeveless,Skirts,Casual,Women",
         "white",
         "XXS",
         "Livraison standard",
         "1",
         "0",
         "41",
         "50",
         "CN",
         "sarahouse",
         "83 % avis positifs ",
         "17752",
         "3.8996732762505633",
         "56458aa03a698c35c9050988",
         "https://www.wish.com/c/5df2576d68963c1660471f9a",
         "5df2576d68963c1660471f9a",
         "6",
         "21400",
         "3567.0",
         "3.9",
         "17752.0",
         "5.68",
         "10.33",
         "38.0",
         "37.83",
         "1057.0"
        ]
       ],
       "shape": {
        "columns": 42,
        "rows": 3
       }
      },
      "text/html": [
       "<div>\n",
       "<style scoped>\n",
       "    .dataframe tbody tr th:only-of-type {\n",
       "        vertical-align: middle;\n",
       "    }\n",
       "\n",
       "    .dataframe tbody tr th {\n",
       "        vertical-align: top;\n",
       "    }\n",
       "\n",
       "    .dataframe thead th {\n",
       "        text-align: right;\n",
       "    }\n",
       "</style>\n",
       "<table border=\"1\" class=\"dataframe\">\n",
       "  <thead>\n",
       "    <tr style=\"text-align: right;\">\n",
       "      <th></th>\n",
       "      <th>Unnamed: 0</th>\n",
       "      <th>title</th>\n",
       "      <th>price</th>\n",
       "      <th>retail_price</th>\n",
       "      <th>units_sold</th>\n",
       "      <th>uses_ad_boosts</th>\n",
       "      <th>rating_sold</th>\n",
       "      <th>rating_count</th>\n",
       "      <th>rating_five_count</th>\n",
       "      <th>rating_four_count</th>\n",
       "      <th>rating_three_count</th>\n",
       "      <th>rating_two_count</th>\n",
       "      <th>rating_one_count</th>\n",
       "      <th>badge_local_product</th>\n",
       "      <th>badge_product_quality</th>\n",
       "      <th>badge_fast_shipping</th>\n",
       "      <th>tags</th>\n",
       "      <th>product_color</th>\n",
       "      <th>product_variation_size_id</th>\n",
       "      <th>shipping_option_name</th>\n",
       "      <th>shipping_option_price</th>\n",
       "      <th>shipping_is_express</th>\n",
       "      <th>countries_shipped_to</th>\n",
       "      <th>inventory_total</th>\n",
       "      <th>origin_country</th>\n",
       "      <th>merchant_name</th>\n",
       "      <th>merchant_info_subtitle</th>\n",
       "      <th>merchant_rating_count</th>\n",
       "      <th>merchant_rating</th>\n",
       "      <th>merchant_id</th>\n",
       "      <th>product_url</th>\n",
       "      <th>product_id</th>\n",
       "      <th>listed_products</th>\n",
       "      <th>total_units_sold</th>\n",
       "      <th>mean_units_sold_per_product</th>\n",
       "      <th>rating_employee</th>\n",
       "      <th>merchant_ratings_count</th>\n",
       "      <th>mean_product_prices</th>\n",
       "      <th>mean_retail_prices</th>\n",
       "      <th>average_discount</th>\n",
       "      <th>mean_discount</th>\n",
       "      <th>mean_product_ratings_count</th>\n",
       "    </tr>\n",
       "  </thead>\n",
       "  <tbody>\n",
       "    <tr>\n",
       "      <th>0</th>\n",
       "      <td>0</td>\n",
       "      <td>2020 Summer Vintage Flamingo Print  Pajamas Se...</td>\n",
       "      <td>16.0</td>\n",
       "      <td>14</td>\n",
       "      <td>100</td>\n",
       "      <td>0</td>\n",
       "      <td>3.76</td>\n",
       "      <td>54</td>\n",
       "      <td>26.0</td>\n",
       "      <td>8.0</td>\n",
       "      <td>10.0</td>\n",
       "      <td>1.0</td>\n",
       "      <td>9.0</td>\n",
       "      <td>0</td>\n",
       "      <td>0</td>\n",
       "      <td>0</td>\n",
       "      <td>Summer,Fashion,womenunderwearsuit,printedpajam...</td>\n",
       "      <td>white</td>\n",
       "      <td>M</td>\n",
       "      <td>Livraison standard</td>\n",
       "      <td>4</td>\n",
       "      <td>0</td>\n",
       "      <td>34</td>\n",
       "      <td>50</td>\n",
       "      <td>CN</td>\n",
       "      <td>zgrdejia</td>\n",
       "      <td>NaN</td>\n",
       "      <td>568</td>\n",
       "      <td>4.128521</td>\n",
       "      <td>595097d6a26f6e070cb878d1</td>\n",
       "      <td>https://www.wish.com/c/5e9ae51d43d6a96e303acdb0</td>\n",
       "      <td>5e9ae51d43d6a96e303acdb0</td>\n",
       "      <td>1</td>\n",
       "      <td>100</td>\n",
       "      <td>100.0</td>\n",
       "      <td>4.129</td>\n",
       "      <td>568.0</td>\n",
       "      <td>16.00</td>\n",
       "      <td>14.00</td>\n",
       "      <td>-14.0</td>\n",
       "      <td>-14.00</td>\n",
       "      <td>54.0</td>\n",
       "    </tr>\n",
       "    <tr>\n",
       "      <th>1</th>\n",
       "      <td>1</td>\n",
       "      <td>SSHOUSE Summer Casual Sleeveless Soirée Party ...</td>\n",
       "      <td>8.0</td>\n",
       "      <td>22</td>\n",
       "      <td>20000</td>\n",
       "      <td>1</td>\n",
       "      <td>3.45</td>\n",
       "      <td>6135</td>\n",
       "      <td>2269.0</td>\n",
       "      <td>1027.0</td>\n",
       "      <td>1118.0</td>\n",
       "      <td>644.0</td>\n",
       "      <td>1077.0</td>\n",
       "      <td>0</td>\n",
       "      <td>0</td>\n",
       "      <td>0</td>\n",
       "      <td>Mini,womens dresses,Summer,Patchwork,fashion d...</td>\n",
       "      <td>green</td>\n",
       "      <td>XS</td>\n",
       "      <td>Livraison standard</td>\n",
       "      <td>2</td>\n",
       "      <td>0</td>\n",
       "      <td>41</td>\n",
       "      <td>50</td>\n",
       "      <td>CN</td>\n",
       "      <td>sarahouse</td>\n",
       "      <td>83 % avis positifs</td>\n",
       "      <td>17752</td>\n",
       "      <td>3.899673</td>\n",
       "      <td>56458aa03a698c35c9050988</td>\n",
       "      <td>https://www.wish.com/c/58940d436a0d3d5da4e95a38</td>\n",
       "      <td>58940d436a0d3d5da4e95a38</td>\n",
       "      <td>6</td>\n",
       "      <td>21400</td>\n",
       "      <td>3567.0</td>\n",
       "      <td>3.900</td>\n",
       "      <td>17752.0</td>\n",
       "      <td>5.68</td>\n",
       "      <td>10.33</td>\n",
       "      <td>38.0</td>\n",
       "      <td>37.83</td>\n",
       "      <td>1057.0</td>\n",
       "    </tr>\n",
       "    <tr>\n",
       "      <th>2</th>\n",
       "      <td>2</td>\n",
       "      <td>Nouvelle mode d'été femmes robe décontractée c...</td>\n",
       "      <td>4.9</td>\n",
       "      <td>8</td>\n",
       "      <td>1000</td>\n",
       "      <td>1</td>\n",
       "      <td>3.83</td>\n",
       "      <td>99</td>\n",
       "      <td>43.0</td>\n",
       "      <td>18.0</td>\n",
       "      <td>23.0</td>\n",
       "      <td>8.0</td>\n",
       "      <td>7.0</td>\n",
       "      <td>0</td>\n",
       "      <td>0</td>\n",
       "      <td>0</td>\n",
       "      <td>Summer,Fashion,Necks,Beach,Dress,Loose,beach d...</td>\n",
       "      <td>white</td>\n",
       "      <td>XXS</td>\n",
       "      <td>Livraison standard</td>\n",
       "      <td>1</td>\n",
       "      <td>0</td>\n",
       "      <td>41</td>\n",
       "      <td>50</td>\n",
       "      <td>CN</td>\n",
       "      <td>sarahouse</td>\n",
       "      <td>83 % avis positifs</td>\n",
       "      <td>17752</td>\n",
       "      <td>3.899673</td>\n",
       "      <td>56458aa03a698c35c9050988</td>\n",
       "      <td>https://www.wish.com/c/5df2576d68963c1660471f9a</td>\n",
       "      <td>5df2576d68963c1660471f9a</td>\n",
       "      <td>6</td>\n",
       "      <td>21400</td>\n",
       "      <td>3567.0</td>\n",
       "      <td>3.900</td>\n",
       "      <td>17752.0</td>\n",
       "      <td>5.68</td>\n",
       "      <td>10.33</td>\n",
       "      <td>38.0</td>\n",
       "      <td>37.83</td>\n",
       "      <td>1057.0</td>\n",
       "    </tr>\n",
       "  </tbody>\n",
       "</table>\n",
       "</div>"
      ],
      "text/plain": [
       "   Unnamed: 0                                              title  price  \\\n",
       "0           0  2020 Summer Vintage Flamingo Print  Pajamas Se...   16.0   \n",
       "1           1  SSHOUSE Summer Casual Sleeveless Soirée Party ...    8.0   \n",
       "2           2  Nouvelle mode d'été femmes robe décontractée c...    4.9   \n",
       "\n",
       "   retail_price  units_sold  uses_ad_boosts  rating_sold  rating_count  \\\n",
       "0            14         100               0         3.76            54   \n",
       "1            22       20000               1         3.45          6135   \n",
       "2             8        1000               1         3.83            99   \n",
       "\n",
       "   rating_five_count  rating_four_count  rating_three_count  rating_two_count  \\\n",
       "0               26.0                8.0                10.0               1.0   \n",
       "1             2269.0             1027.0              1118.0             644.0   \n",
       "2               43.0               18.0                23.0               8.0   \n",
       "\n",
       "   rating_one_count  badge_local_product  badge_product_quality  \\\n",
       "0               9.0                    0                      0   \n",
       "1            1077.0                    0                      0   \n",
       "2               7.0                    0                      0   \n",
       "\n",
       "   badge_fast_shipping                                               tags  \\\n",
       "0                    0  Summer,Fashion,womenunderwearsuit,printedpajam...   \n",
       "1                    0  Mini,womens dresses,Summer,Patchwork,fashion d...   \n",
       "2                    0  Summer,Fashion,Necks,Beach,Dress,Loose,beach d...   \n",
       "\n",
       "  product_color product_variation_size_id shipping_option_name  \\\n",
       "0         white                         M   Livraison standard   \n",
       "1         green                        XS   Livraison standard   \n",
       "2         white                       XXS   Livraison standard   \n",
       "\n",
       "   shipping_option_price  shipping_is_express  countries_shipped_to  \\\n",
       "0                      4                    0                    34   \n",
       "1                      2                    0                    41   \n",
       "2                      1                    0                    41   \n",
       "\n",
       "   inventory_total origin_country merchant_name merchant_info_subtitle  \\\n",
       "0               50             CN      zgrdejia                    NaN   \n",
       "1               50             CN     sarahouse    83 % avis positifs    \n",
       "2               50             CN     sarahouse    83 % avis positifs    \n",
       "\n",
       "   merchant_rating_count  merchant_rating               merchant_id  \\\n",
       "0                    568         4.128521  595097d6a26f6e070cb878d1   \n",
       "1                  17752         3.899673  56458aa03a698c35c9050988   \n",
       "2                  17752         3.899673  56458aa03a698c35c9050988   \n",
       "\n",
       "                                       product_url                product_id  \\\n",
       "0  https://www.wish.com/c/5e9ae51d43d6a96e303acdb0  5e9ae51d43d6a96e303acdb0   \n",
       "1  https://www.wish.com/c/58940d436a0d3d5da4e95a38  58940d436a0d3d5da4e95a38   \n",
       "2  https://www.wish.com/c/5df2576d68963c1660471f9a  5df2576d68963c1660471f9a   \n",
       "\n",
       "   listed_products  total_units_sold  mean_units_sold_per_product  \\\n",
       "0                1               100                        100.0   \n",
       "1                6             21400                       3567.0   \n",
       "2                6             21400                       3567.0   \n",
       "\n",
       "   rating_employee  merchant_ratings_count  mean_product_prices  \\\n",
       "0            4.129                   568.0                16.00   \n",
       "1            3.900                 17752.0                 5.68   \n",
       "2            3.900                 17752.0                 5.68   \n",
       "\n",
       "   mean_retail_prices  average_discount  mean_discount  \\\n",
       "0               14.00             -14.0         -14.00   \n",
       "1               10.33              38.0          37.83   \n",
       "2               10.33              38.0          37.83   \n",
       "\n",
       "   mean_product_ratings_count  \n",
       "0                        54.0  \n",
       "1                      1057.0  \n",
       "2                      1057.0  "
      ]
     },
     "metadata": {},
     "output_type": "display_data"
    }
   ],
   "source": [
    "df.head(3)\n",
    "\n",
    "display(df.head(3))"
   ]
  },
  {
   "cell_type": "code",
   "execution_count": 8,
   "id": "a7496c7e",
   "metadata": {},
   "outputs": [
    {
     "name": "stdout",
     "output_type": "stream",
     "text": [
      "<class 'pandas.core.frame.DataFrame'>\n",
      "RangeIndex: 1573 entries, 0 to 1572\n",
      "Data columns (total 42 columns):\n",
      " #   Column                       Non-Null Count  Dtype  \n",
      "---  ------                       --------------  -----  \n",
      " 0   Unnamed: 0                   1573 non-null   int64  \n",
      " 1   title                        1573 non-null   object \n",
      " 2   price                        1573 non-null   float64\n",
      " 3   retail_price                 1573 non-null   int64  \n",
      " 4   units_sold                   1573 non-null   int64  \n",
      " 5   uses_ad_boosts               1573 non-null   int64  \n",
      " 6   rating_sold                  1573 non-null   float64\n",
      " 7   rating_count                 1573 non-null   int64  \n",
      " 8   rating_five_count            1528 non-null   float64\n",
      " 9   rating_four_count            1528 non-null   float64\n",
      " 10  rating_three_count           1528 non-null   float64\n",
      " 11  rating_two_count             1528 non-null   float64\n",
      " 12  rating_one_count             1528 non-null   float64\n",
      " 13  badge_local_product          1573 non-null   int64  \n",
      " 14  badge_product_quality        1573 non-null   int64  \n",
      " 15  badge_fast_shipping          1573 non-null   int64  \n",
      " 16  tags                         1573 non-null   object \n",
      " 17  product_color                1532 non-null   object \n",
      " 18  product_variation_size_id    1559 non-null   object \n",
      " 19  shipping_option_name         1573 non-null   object \n",
      " 20  shipping_option_price        1573 non-null   int64  \n",
      " 21  shipping_is_express          1573 non-null   int64  \n",
      " 22  countries_shipped_to         1573 non-null   int64  \n",
      " 23  inventory_total              1573 non-null   int64  \n",
      " 24  origin_country               1556 non-null   object \n",
      " 25  merchant_name                1569 non-null   object \n",
      " 26  merchant_info_subtitle       1279 non-null   object \n",
      " 27  merchant_rating_count        1573 non-null   int64  \n",
      " 28  merchant_rating              1573 non-null   float64\n",
      " 29  merchant_id                  1573 non-null   object \n",
      " 30  product_url                  1573 non-null   object \n",
      " 31  product_id                   1573 non-null   object \n",
      " 32  listed_products              1573 non-null   int64  \n",
      " 33  total_units_sold             1573 non-null   int64  \n",
      " 34  mean_units_sold_per_product  1573 non-null   float64\n",
      " 35  rating_employee              1573 non-null   float64\n",
      " 36  merchant_ratings_count       1573 non-null   float64\n",
      " 37  mean_product_prices          1573 non-null   float64\n",
      " 38  mean_retail_prices           1573 non-null   float64\n",
      " 39  average_discount             1573 non-null   float64\n",
      " 40  mean_discount                1573 non-null   float64\n",
      " 41  mean_product_ratings_count   1573 non-null   float64\n",
      "dtypes: float64(16), int64(15), object(11)\n",
      "memory usage: 516.3+ KB\n"
     ]
    }
   ],
   "source": [
    "df.info()"
   ]
  },
  {
   "cell_type": "code",
   "execution_count": 14,
   "id": "629b3f3d",
   "metadata": {},
   "outputs": [
    {
     "data": {
      "application/vnd.microsoft.datawrangler.viewer.v0+json": {
       "columns": [
        {
         "name": "index",
         "rawType": "int64",
         "type": "integer"
        },
        {
         "name": "origin_country",
         "rawType": "object",
         "type": "string"
        },
        {
         "name": "units_by_country",
         "rawType": "int64",
         "type": "integer"
        }
       ],
       "ref": "8965f2da-258f-47dd-8ea6-28386e86b500",
       "rows": [
        [
         "1",
         "CN",
         "6651245"
        ],
        [
         "4",
         "US",
         "43560"
        ],
        [
         "3",
         "SG",
         "20100"
        ],
        [
         "2",
         "GB",
         "1000"
        ],
        [
         "5",
         "VE",
         "350"
        ]
       ],
       "shape": {
        "columns": 2,
        "rows": 5
       }
      },
      "text/html": [
       "<div>\n",
       "<style scoped>\n",
       "    .dataframe tbody tr th:only-of-type {\n",
       "        vertical-align: middle;\n",
       "    }\n",
       "\n",
       "    .dataframe tbody tr th {\n",
       "        vertical-align: top;\n",
       "    }\n",
       "\n",
       "    .dataframe thead th {\n",
       "        text-align: right;\n",
       "    }\n",
       "</style>\n",
       "<table border=\"1\" class=\"dataframe\">\n",
       "  <thead>\n",
       "    <tr style=\"text-align: right;\">\n",
       "      <th></th>\n",
       "      <th>origin_country</th>\n",
       "      <th>units_by_country</th>\n",
       "    </tr>\n",
       "  </thead>\n",
       "  <tbody>\n",
       "    <tr>\n",
       "      <th>1</th>\n",
       "      <td>CN</td>\n",
       "      <td>6651245</td>\n",
       "    </tr>\n",
       "    <tr>\n",
       "      <th>4</th>\n",
       "      <td>US</td>\n",
       "      <td>43560</td>\n",
       "    </tr>\n",
       "    <tr>\n",
       "      <th>3</th>\n",
       "      <td>SG</td>\n",
       "      <td>20100</td>\n",
       "    </tr>\n",
       "    <tr>\n",
       "      <th>2</th>\n",
       "      <td>GB</td>\n",
       "      <td>1000</td>\n",
       "    </tr>\n",
       "    <tr>\n",
       "      <th>5</th>\n",
       "      <td>VE</td>\n",
       "      <td>350</td>\n",
       "    </tr>\n",
       "  </tbody>\n",
       "</table>\n",
       "</div>"
      ],
      "text/plain": [
       "  origin_country  units_by_country\n",
       "1             CN           6651245\n",
       "4             US             43560\n",
       "3             SG             20100\n",
       "2             GB              1000\n",
       "5             VE               350"
      ]
     },
     "metadata": {},
     "output_type": "display_data"
    }
   ],
   "source": [
    "df_units_by_country = df.groupby( \"origin_country\")[\"units_sold\"].sum().reset_index(name='units_by_country').sort_values(by='units_by_country', ascending=False)\n",
    "display(df_units_by_country.head())"
   ]
  },
  {
   "cell_type": "markdown",
   "id": "97351de3",
   "metadata": {},
   "source": [
    "#2.Estadísticas de precio por país de origen. Vamos a explorar el precio promedio y el precio máximo de los productos según el país de origen. Al hacer esto, podremos entender cómo varían los precios según el país de origen y si hay alguna tendencia interesante que valga la pena analizar. Devuelve los resultados en un DataFrame."
   ]
  },
  {
   "cell_type": "code",
   "execution_count": 43,
   "id": "9ed3e093",
   "metadata": {},
   "outputs": [
    {
     "data": {
      "application/vnd.microsoft.datawrangler.viewer.v0+json": {
       "columns": [
        {
         "name": "index",
         "rawType": "int64",
         "type": "integer"
        },
        {
         "name": "origin_country",
         "rawType": "object",
         "type": "string"
        },
        {
         "name": "average_price",
         "rawType": "float64",
         "type": "float"
        },
        {
         "name": "max_price",
         "rawType": "float64",
         "type": "float"
        }
       ],
       "ref": "63323497-8681-4ad7-bfd4-61ee5440d73d",
       "rows": [
        [
         "5",
         "VE",
         "35.4",
         "51.0"
        ],
        [
         "4",
         "US",
         "29.6",
         "84.0"
        ],
        [
         "1",
         "CN",
         "23.3",
         "252.0"
        ],
        [
         "2",
         "GB",
         "8.0",
         "8.0"
        ],
        [
         "0",
         "AT",
         "6.0",
         "6.0"
        ]
       ],
       "shape": {
        "columns": 3,
        "rows": 5
       }
      },
      "text/html": [
       "<div>\n",
       "<style scoped>\n",
       "    .dataframe tbody tr th:only-of-type {\n",
       "        vertical-align: middle;\n",
       "    }\n",
       "\n",
       "    .dataframe tbody tr th {\n",
       "        vertical-align: top;\n",
       "    }\n",
       "\n",
       "    .dataframe thead th {\n",
       "        text-align: right;\n",
       "    }\n",
       "</style>\n",
       "<table border=\"1\" class=\"dataframe\">\n",
       "  <thead>\n",
       "    <tr style=\"text-align: right;\">\n",
       "      <th></th>\n",
       "      <th>origin_country</th>\n",
       "      <th>average_price</th>\n",
       "      <th>max_price</th>\n",
       "    </tr>\n",
       "  </thead>\n",
       "  <tbody>\n",
       "    <tr>\n",
       "      <th>5</th>\n",
       "      <td>VE</td>\n",
       "      <td>35.4</td>\n",
       "      <td>51.0</td>\n",
       "    </tr>\n",
       "    <tr>\n",
       "      <th>4</th>\n",
       "      <td>US</td>\n",
       "      <td>29.6</td>\n",
       "      <td>84.0</td>\n",
       "    </tr>\n",
       "    <tr>\n",
       "      <th>1</th>\n",
       "      <td>CN</td>\n",
       "      <td>23.3</td>\n",
       "      <td>252.0</td>\n",
       "    </tr>\n",
       "    <tr>\n",
       "      <th>2</th>\n",
       "      <td>GB</td>\n",
       "      <td>8.0</td>\n",
       "      <td>8.0</td>\n",
       "    </tr>\n",
       "    <tr>\n",
       "      <th>0</th>\n",
       "      <td>AT</td>\n",
       "      <td>6.0</td>\n",
       "      <td>6.0</td>\n",
       "    </tr>\n",
       "  </tbody>\n",
       "</table>\n",
       "</div>"
      ],
      "text/plain": [
       "  origin_country  average_price  max_price\n",
       "5             VE           35.4       51.0\n",
       "4             US           29.6       84.0\n",
       "1             CN           23.3      252.0\n",
       "2             GB            8.0        8.0\n",
       "0             AT            6.0        6.0"
      ]
     },
     "metadata": {},
     "output_type": "display_data"
    }
   ],
   "source": [
    "df_price_by_country = df.groupby(\"origin_country\")[\"retail_price\"].agg(['mean', 'max']).reset_index().sort_values(by='mean', ascending=False)\n",
    "df_price_by_country.columns = ['origin_country', 'average_price', 'max_price']\n",
    "df_price_by_country['average_price'] = df_price_by_country['average_price'].astype(float).round(1)\n",
    "df_price_by_country['max_price'] = df_price_by_country['max_price'].astype(float).round(1)\n",
    "df_price_by_country = df_price_by_country.sort_values(by='average_price', ascending=False)\n",
    "display(df_price_by_country.head())"
   ]
  },
  {
   "cell_type": "code",
   "execution_count": null,
   "id": "129559e5",
   "metadata": {},
   "outputs": [
    {
     "ename": "SyntaxError",
     "evalue": "invalid syntax (1028838151.py, line 2)",
     "output_type": "error",
     "traceback": [
      "\u001b[0;36m  Cell \u001b[0;32mIn[49], line 2\u001b[0;36m\u001b[0m\n\u001b[0;31m    pd.concat([df_price_by_country, df[[\"origin_country\"]]], axis=1)head(3)\u001b[0m\n\u001b[0m                                                                    ^\u001b[0m\n\u001b[0;31mSyntaxError\u001b[0m\u001b[0;31m:\u001b[0m invalid syntax\n"
     ]
    }
   ],
   "source": [
    "df_price_by_country.describe().astype(float).round(1)\n",
    "df_pd.concat([df_price_by_country, df[[\"origin_country\"]]], axis=1)\n",
    "\n",
    "head(3)"
   ]
  }
 ],
 "metadata": {
  "kernelspec": {
   "display_name": "base",
   "language": "python",
   "name": "python3"
  },
  "language_info": {
   "codemirror_mode": {
    "name": "ipython",
    "version": 3
   },
   "file_extension": ".py",
   "mimetype": "text/x-python",
   "name": "python",
   "nbconvert_exporter": "python",
   "pygments_lexer": "ipython3",
   "version": "3.12.7"
  }
 },
 "nbformat": 4,
 "nbformat_minor": 5
}
