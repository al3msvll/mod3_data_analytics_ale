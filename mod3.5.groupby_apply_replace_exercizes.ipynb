{
 "cells": [
  {
   "cell_type": "markdown",
   "id": "ac336903",
   "metadata": {},
   "source": [
    "## 5. GROUP BY Y APPLY, EXERCIZES"
   ]
  },
  {
   "cell_type": "markdown",
   "id": "0e67061e",
   "metadata": {},
   "source": [
    "july 29,2025"
   ]
  },
  {
   "cell_type": "markdown",
   "id": "a60e532b",
   "metadata": {},
   "source": [
    "\n",
    "#1.Total de unidades vendidas por país de origen del vendedor. Debéis agrupar los datos según el país de origen del vendedor y calcular el total de unidades vendidas para cada país. Esto nos dará una idea de qué países tienen una mayor participación en las ventas totales y cuáles tienen menos. Devuelve los resultados en un DataFrame ordenados de mayor a menor en función de la cantidad de unidades vendidas."
   ]
  },
  {
   "cell_type": "code",
   "execution_count": 2,
   "id": "a55058b3",
   "metadata": {},
   "outputs": [],
   "source": [
    "import pandas as pd"
   ]
  },
  {
   "cell_type": "code",
   "execution_count": 3,
   "id": "aac9302e",
   "metadata": {},
   "outputs": [],
   "source": [
    "import numpy as np"
   ]
  },
  {
   "cell_type": "code",
   "execution_count": 20,
   "id": "67af55a8",
   "metadata": {},
   "outputs": [],
   "source": [
    "pd.set_option('display.max_columns', None)"
   ]
  },
  {
   "cell_type": "code",
   "execution_count": 5,
   "id": "edc1fda1",
   "metadata": {},
   "outputs": [],
   "source": [
    "df = pd.read_csv('/Users/alejandramartinsevilla/Desktop/merchant_fill.csv')"
   ]
  },
  {
   "cell_type": "code",
   "execution_count": 8,
   "id": "e0766882",
   "metadata": {},
   "outputs": [
    {
     "data": {
      "application/vnd.microsoft.datawrangler.viewer.v0+json": {
       "columns": [
        {
         "name": "index",
         "rawType": "int64",
         "type": "integer"
        },
        {
         "name": "Unnamed: 0",
         "rawType": "int64",
         "type": "integer"
        },
        {
         "name": "title",
         "rawType": "object",
         "type": "string"
        },
        {
         "name": "price",
         "rawType": "float64",
         "type": "float"
        },
        {
         "name": "retail_price",
         "rawType": "int64",
         "type": "integer"
        },
        {
         "name": "units_sold",
         "rawType": "int64",
         "type": "integer"
        },
        {
         "name": "uses_ad_boosts",
         "rawType": "int64",
         "type": "integer"
        },
        {
         "name": "rating_sold",
         "rawType": "float64",
         "type": "float"
        },
        {
         "name": "rating_count",
         "rawType": "int64",
         "type": "integer"
        },
        {
         "name": "rating_five_count",
         "rawType": "float64",
         "type": "float"
        },
        {
         "name": "rating_four_count",
         "rawType": "float64",
         "type": "float"
        },
        {
         "name": "rating_three_count",
         "rawType": "float64",
         "type": "float"
        },
        {
         "name": "rating_two_count",
         "rawType": "float64",
         "type": "float"
        },
        {
         "name": "rating_one_count",
         "rawType": "float64",
         "type": "float"
        },
        {
         "name": "badge_local_product",
         "rawType": "int64",
         "type": "integer"
        },
        {
         "name": "badge_product_quality",
         "rawType": "int64",
         "type": "integer"
        },
        {
         "name": "badge_fast_shipping",
         "rawType": "int64",
         "type": "integer"
        },
        {
         "name": "tags",
         "rawType": "object",
         "type": "string"
        },
        {
         "name": "product_color",
         "rawType": "object",
         "type": "string"
        },
        {
         "name": "product_variation_size_id",
         "rawType": "object",
         "type": "string"
        },
        {
         "name": "shipping_option_name",
         "rawType": "object",
         "type": "string"
        },
        {
         "name": "shipping_option_price",
         "rawType": "int64",
         "type": "integer"
        },
        {
         "name": "shipping_is_express",
         "rawType": "int64",
         "type": "integer"
        },
        {
         "name": "countries_shipped_to",
         "rawType": "int64",
         "type": "integer"
        },
        {
         "name": "inventory_total",
         "rawType": "int64",
         "type": "integer"
        },
        {
         "name": "origin_country",
         "rawType": "object",
         "type": "string"
        },
        {
         "name": "merchant_name",
         "rawType": "object",
         "type": "string"
        },
        {
         "name": "merchant_info_subtitle",
         "rawType": "object",
         "type": "unknown"
        },
        {
         "name": "merchant_rating_count",
         "rawType": "int64",
         "type": "integer"
        },
        {
         "name": "merchant_rating",
         "rawType": "float64",
         "type": "float"
        },
        {
         "name": "merchant_id",
         "rawType": "object",
         "type": "string"
        },
        {
         "name": "product_url",
         "rawType": "object",
         "type": "string"
        },
        {
         "name": "product_id",
         "rawType": "object",
         "type": "string"
        },
        {
         "name": "listed_products",
         "rawType": "int64",
         "type": "integer"
        },
        {
         "name": "total_units_sold",
         "rawType": "int64",
         "type": "integer"
        },
        {
         "name": "mean_units_sold_per_product",
         "rawType": "float64",
         "type": "float"
        },
        {
         "name": "rating_employee",
         "rawType": "float64",
         "type": "float"
        },
        {
         "name": "merchant_ratings_count",
         "rawType": "float64",
         "type": "float"
        },
        {
         "name": "mean_product_prices",
         "rawType": "float64",
         "type": "float"
        },
        {
         "name": "mean_retail_prices",
         "rawType": "float64",
         "type": "float"
        },
        {
         "name": "average_discount",
         "rawType": "float64",
         "type": "float"
        },
        {
         "name": "mean_discount",
         "rawType": "float64",
         "type": "float"
        },
        {
         "name": "mean_product_ratings_count",
         "rawType": "float64",
         "type": "float"
        }
       ],
       "ref": "22ecb391-6541-49c5-842b-57978d4293bd",
       "rows": [
        [
         "0",
         "0",
         "2020 Summer Vintage Flamingo Print  Pajamas Set Casual Loose T Shirt Top And Elastic Shorts Women Sleepwear Night Wear Loungewear Sets",
         "16.0",
         "14",
         "100",
         "0",
         "3.76",
         "54",
         "26.0",
         "8.0",
         "10.0",
         "1.0",
         "9.0",
         "0",
         "0",
         "0",
         "Summer,Fashion,womenunderwearsuit,printedpajamasset,womencasualshort,Women's Fashion,flamingo,loungewearset,Casual,Shirt,casualsleepwear,Shorts,flamingotshirt,Elastic,Vintage,Tops,tshirtandshortsset,Women,Sleepwear,Print,womenpajamasset,womennightwear,Pajamas,womensleepwearset",
         "white",
         "M",
         "Livraison standard",
         "4",
         "0",
         "34",
         "50",
         "CN",
         "zgrdejia",
         null,
         "568",
         "4.128521126760563",
         "595097d6a26f6e070cb878d1",
         "https://www.wish.com/c/5e9ae51d43d6a96e303acdb0",
         "5e9ae51d43d6a96e303acdb0",
         "1",
         "100",
         "100.0",
         "4.129",
         "568.0",
         "16.0",
         "14.0",
         "-14.0",
         "-14.0",
         "54.0"
        ],
        [
         "1",
         "1",
         "SSHOUSE Summer Casual Sleeveless Soirée Party Soirée sans manches Vêtements de plage sexy Mini robe femme wshC1612242400387A21",
         "8.0",
         "22",
         "20000",
         "1",
         "3.45",
         "6135",
         "2269.0",
         "1027.0",
         "1118.0",
         "644.0",
         "1077.0",
         "0",
         "0",
         "0",
         "Mini,womens dresses,Summer,Patchwork,fashion dress,Dress,Mini dress,Women's Fashion,Women S Clothing,backless,party,summer dresses,sleeveless,sexy,Casual",
         "green",
         "XS",
         "Livraison standard",
         "2",
         "0",
         "41",
         "50",
         "CN",
         "sarahouse",
         "83 % avis positifs ",
         "17752",
         "3.8996732762505633",
         "56458aa03a698c35c9050988",
         "https://www.wish.com/c/58940d436a0d3d5da4e95a38",
         "58940d436a0d3d5da4e95a38",
         "6",
         "21400",
         "3567.0",
         "3.9",
         "17752.0",
         "5.68",
         "10.33",
         "38.0",
         "37.83",
         "1057.0"
        ],
        [
         "2",
         "2",
         "Nouvelle mode d'été femmes robe décontractée col rond lâche Big Swing jupe sans manches Soild couleur robe de plage",
         "4.9",
         "8",
         "1000",
         "1",
         "3.83",
         "99",
         "43.0",
         "18.0",
         "23.0",
         "8.0",
         "7.0",
         "0",
         "0",
         "0",
         "Summer,Fashion,Necks,Beach,Dress,Loose,beach dress,Round neck,Women's Fashion,sleeveless,Skirts,Casual,Women",
         "white",
         "XXS",
         "Livraison standard",
         "1",
         "0",
         "41",
         "50",
         "CN",
         "sarahouse",
         "83 % avis positifs ",
         "17752",
         "3.8996732762505633",
         "56458aa03a698c35c9050988",
         "https://www.wish.com/c/5df2576d68963c1660471f9a",
         "5df2576d68963c1660471f9a",
         "6",
         "21400",
         "3567.0",
         "3.9",
         "17752.0",
         "5.68",
         "10.33",
         "38.0",
         "37.83",
         "1057.0"
        ]
       ],
       "shape": {
        "columns": 42,
        "rows": 3
       }
      },
      "text/html": [
       "<div>\n",
       "<style scoped>\n",
       "    .dataframe tbody tr th:only-of-type {\n",
       "        vertical-align: middle;\n",
       "    }\n",
       "\n",
       "    .dataframe tbody tr th {\n",
       "        vertical-align: top;\n",
       "    }\n",
       "\n",
       "    .dataframe thead th {\n",
       "        text-align: right;\n",
       "    }\n",
       "</style>\n",
       "<table border=\"1\" class=\"dataframe\">\n",
       "  <thead>\n",
       "    <tr style=\"text-align: right;\">\n",
       "      <th></th>\n",
       "      <th>Unnamed: 0</th>\n",
       "      <th>title</th>\n",
       "      <th>price</th>\n",
       "      <th>retail_price</th>\n",
       "      <th>units_sold</th>\n",
       "      <th>uses_ad_boosts</th>\n",
       "      <th>rating_sold</th>\n",
       "      <th>rating_count</th>\n",
       "      <th>rating_five_count</th>\n",
       "      <th>rating_four_count</th>\n",
       "      <th>...</th>\n",
       "      <th>listed_products</th>\n",
       "      <th>total_units_sold</th>\n",
       "      <th>mean_units_sold_per_product</th>\n",
       "      <th>rating_employee</th>\n",
       "      <th>merchant_ratings_count</th>\n",
       "      <th>mean_product_prices</th>\n",
       "      <th>mean_retail_prices</th>\n",
       "      <th>average_discount</th>\n",
       "      <th>mean_discount</th>\n",
       "      <th>mean_product_ratings_count</th>\n",
       "    </tr>\n",
       "  </thead>\n",
       "  <tbody>\n",
       "    <tr>\n",
       "      <th>0</th>\n",
       "      <td>0</td>\n",
       "      <td>2020 Summer Vintage Flamingo Print  Pajamas Se...</td>\n",
       "      <td>16.0</td>\n",
       "      <td>14</td>\n",
       "      <td>100</td>\n",
       "      <td>0</td>\n",
       "      <td>3.76</td>\n",
       "      <td>54</td>\n",
       "      <td>26.0</td>\n",
       "      <td>8.0</td>\n",
       "      <td>...</td>\n",
       "      <td>1</td>\n",
       "      <td>100</td>\n",
       "      <td>100.0</td>\n",
       "      <td>4.129</td>\n",
       "      <td>568.0</td>\n",
       "      <td>16.00</td>\n",
       "      <td>14.00</td>\n",
       "      <td>-14.0</td>\n",
       "      <td>-14.00</td>\n",
       "      <td>54.0</td>\n",
       "    </tr>\n",
       "    <tr>\n",
       "      <th>1</th>\n",
       "      <td>1</td>\n",
       "      <td>SSHOUSE Summer Casual Sleeveless Soirée Party ...</td>\n",
       "      <td>8.0</td>\n",
       "      <td>22</td>\n",
       "      <td>20000</td>\n",
       "      <td>1</td>\n",
       "      <td>3.45</td>\n",
       "      <td>6135</td>\n",
       "      <td>2269.0</td>\n",
       "      <td>1027.0</td>\n",
       "      <td>...</td>\n",
       "      <td>6</td>\n",
       "      <td>21400</td>\n",
       "      <td>3567.0</td>\n",
       "      <td>3.900</td>\n",
       "      <td>17752.0</td>\n",
       "      <td>5.68</td>\n",
       "      <td>10.33</td>\n",
       "      <td>38.0</td>\n",
       "      <td>37.83</td>\n",
       "      <td>1057.0</td>\n",
       "    </tr>\n",
       "    <tr>\n",
       "      <th>2</th>\n",
       "      <td>2</td>\n",
       "      <td>Nouvelle mode d'été femmes robe décontractée c...</td>\n",
       "      <td>4.9</td>\n",
       "      <td>8</td>\n",
       "      <td>1000</td>\n",
       "      <td>1</td>\n",
       "      <td>3.83</td>\n",
       "      <td>99</td>\n",
       "      <td>43.0</td>\n",
       "      <td>18.0</td>\n",
       "      <td>...</td>\n",
       "      <td>6</td>\n",
       "      <td>21400</td>\n",
       "      <td>3567.0</td>\n",
       "      <td>3.900</td>\n",
       "      <td>17752.0</td>\n",
       "      <td>5.68</td>\n",
       "      <td>10.33</td>\n",
       "      <td>38.0</td>\n",
       "      <td>37.83</td>\n",
       "      <td>1057.0</td>\n",
       "    </tr>\n",
       "  </tbody>\n",
       "</table>\n",
       "<p>3 rows × 42 columns</p>\n",
       "</div>"
      ],
      "text/plain": [
       "   Unnamed: 0                                              title  price  \\\n",
       "0           0  2020 Summer Vintage Flamingo Print  Pajamas Se...   16.0   \n",
       "1           1  SSHOUSE Summer Casual Sleeveless Soirée Party ...    8.0   \n",
       "2           2  Nouvelle mode d'été femmes robe décontractée c...    4.9   \n",
       "\n",
       "   retail_price  units_sold  uses_ad_boosts  rating_sold  rating_count  \\\n",
       "0            14         100               0         3.76            54   \n",
       "1            22       20000               1         3.45          6135   \n",
       "2             8        1000               1         3.83            99   \n",
       "\n",
       "   rating_five_count  rating_four_count  ...  listed_products  \\\n",
       "0               26.0                8.0  ...                1   \n",
       "1             2269.0             1027.0  ...                6   \n",
       "2               43.0               18.0  ...                6   \n",
       "\n",
       "   total_units_sold  mean_units_sold_per_product  rating_employee  \\\n",
       "0               100                        100.0            4.129   \n",
       "1             21400                       3567.0            3.900   \n",
       "2             21400                       3567.0            3.900   \n",
       "\n",
       "   merchant_ratings_count  mean_product_prices mean_retail_prices  \\\n",
       "0                   568.0                16.00              14.00   \n",
       "1                 17752.0                 5.68              10.33   \n",
       "2                 17752.0                 5.68              10.33   \n",
       "\n",
       "  average_discount mean_discount mean_product_ratings_count  \n",
       "0            -14.0        -14.00                       54.0  \n",
       "1             38.0         37.83                     1057.0  \n",
       "2             38.0         37.83                     1057.0  \n",
       "\n",
       "[3 rows x 42 columns]"
      ]
     },
     "metadata": {},
     "output_type": "display_data"
    }
   ],
   "source": [
    "df.head(3)\n",
    "\n",
    "display(df.head(3))"
   ]
  },
  {
   "cell_type": "code",
   "execution_count": 9,
   "id": "a7496c7e",
   "metadata": {},
   "outputs": [
    {
     "name": "stdout",
     "output_type": "stream",
     "text": [
      "<class 'pandas.core.frame.DataFrame'>\n",
      "RangeIndex: 1573 entries, 0 to 1572\n",
      "Data columns (total 42 columns):\n",
      " #   Column                       Non-Null Count  Dtype  \n",
      "---  ------                       --------------  -----  \n",
      " 0   Unnamed: 0                   1573 non-null   int64  \n",
      " 1   title                        1573 non-null   object \n",
      " 2   price                        1573 non-null   float64\n",
      " 3   retail_price                 1573 non-null   int64  \n",
      " 4   units_sold                   1573 non-null   int64  \n",
      " 5   uses_ad_boosts               1573 non-null   int64  \n",
      " 6   rating_sold                  1573 non-null   float64\n",
      " 7   rating_count                 1573 non-null   int64  \n",
      " 8   rating_five_count            1528 non-null   float64\n",
      " 9   rating_four_count            1528 non-null   float64\n",
      " 10  rating_three_count           1528 non-null   float64\n",
      " 11  rating_two_count             1528 non-null   float64\n",
      " 12  rating_one_count             1528 non-null   float64\n",
      " 13  badge_local_product          1573 non-null   int64  \n",
      " 14  badge_product_quality        1573 non-null   int64  \n",
      " 15  badge_fast_shipping          1573 non-null   int64  \n",
      " 16  tags                         1573 non-null   object \n",
      " 17  product_color                1532 non-null   object \n",
      " 18  product_variation_size_id    1559 non-null   object \n",
      " 19  shipping_option_name         1573 non-null   object \n",
      " 20  shipping_option_price        1573 non-null   int64  \n",
      " 21  shipping_is_express          1573 non-null   int64  \n",
      " 22  countries_shipped_to         1573 non-null   int64  \n",
      " 23  inventory_total              1573 non-null   int64  \n",
      " 24  origin_country               1556 non-null   object \n",
      " 25  merchant_name                1569 non-null   object \n",
      " 26  merchant_info_subtitle       1279 non-null   object \n",
      " 27  merchant_rating_count        1573 non-null   int64  \n",
      " 28  merchant_rating              1573 non-null   float64\n",
      " 29  merchant_id                  1573 non-null   object \n",
      " 30  product_url                  1573 non-null   object \n",
      " 31  product_id                   1573 non-null   object \n",
      " 32  listed_products              1573 non-null   int64  \n",
      " 33  total_units_sold             1573 non-null   int64  \n",
      " 34  mean_units_sold_per_product  1573 non-null   float64\n",
      " 35  rating_employee              1573 non-null   float64\n",
      " 36  merchant_ratings_count       1573 non-null   float64\n",
      " 37  mean_product_prices          1573 non-null   float64\n",
      " 38  mean_retail_prices           1573 non-null   float64\n",
      " 39  average_discount             1573 non-null   float64\n",
      " 40  mean_discount                1573 non-null   float64\n",
      " 41  mean_product_ratings_count   1573 non-null   float64\n",
      "dtypes: float64(16), int64(15), object(11)\n",
      "memory usage: 516.3+ KB\n"
     ]
    }
   ],
   "source": [
    "df.info()"
   ]
  },
  {
   "cell_type": "code",
   "execution_count": 27,
   "id": "629b3f3d",
   "metadata": {},
   "outputs": [],
   "source": [
    "df_units_by_country = df.groupby( \"origin_country\")[\"units_sold\"].sum().reset_index(name='units_by_country')\n"
   ]
  },
  {
   "cell_type": "code",
   "execution_count": null,
   "id": "bf7acc5c",
   "metadata": {},
   "outputs": [
    {
     "data": {
      "application/vnd.microsoft.datawrangler.viewer.v0+json": {
       "columns": [
        {
         "name": "index",
         "rawType": "int64",
         "type": "integer"
        },
        {
         "name": "origin_country",
         "rawType": "object",
         "type": "string"
        },
        {
         "name": "units_by_country",
         "rawType": "int64",
         "type": "integer"
        }
       ],
       "ref": "813be474-fb4e-46fb-9fdf-1e311a3ebc3f",
       "rows": [
        [
         "0",
         "AT",
         "100"
        ],
        [
         "1",
         "CN",
         "6651245"
        ],
        [
         "2",
         "GB",
         "1000"
        ]
       ],
       "shape": {
        "columns": 2,
        "rows": 3
       }
      },
      "text/html": [
       "<div>\n",
       "<style scoped>\n",
       "    .dataframe tbody tr th:only-of-type {\n",
       "        vertical-align: middle;\n",
       "    }\n",
       "\n",
       "    .dataframe tbody tr th {\n",
       "        vertical-align: top;\n",
       "    }\n",
       "\n",
       "    .dataframe thead th {\n",
       "        text-align: right;\n",
       "    }\n",
       "</style>\n",
       "<table border=\"1\" class=\"dataframe\">\n",
       "  <thead>\n",
       "    <tr style=\"text-align: right;\">\n",
       "      <th></th>\n",
       "      <th>origin_country</th>\n",
       "      <th>units_by_country</th>\n",
       "    </tr>\n",
       "  </thead>\n",
       "  <tbody>\n",
       "    <tr>\n",
       "      <th>0</th>\n",
       "      <td>AT</td>\n",
       "      <td>100</td>\n",
       "    </tr>\n",
       "    <tr>\n",
       "      <th>1</th>\n",
       "      <td>CN</td>\n",
       "      <td>6651245</td>\n",
       "    </tr>\n",
       "    <tr>\n",
       "      <th>2</th>\n",
       "      <td>GB</td>\n",
       "      <td>1000</td>\n",
       "    </tr>\n",
       "  </tbody>\n",
       "</table>\n",
       "</div>"
      ],
      "text/plain": [
       "  origin_country  units_by_country\n",
       "0             AT               100\n",
       "1             CN           6651245\n",
       "2             GB              1000"
      ]
     },
     "execution_count": 28,
     "metadata": {},
     "output_type": "execute_result"
    }
   ],
   "source": [
    "df_units_by_country.head(3)\n",
    "display(df_units_by_country.head()).desc"
   ]
  },
  {
   "cell_type": "code",
   "execution_count": null,
   "id": "525e9ac6",
   "metadata": {},
   "outputs": [],
   "source": []
  }
 ],
 "metadata": {
  "kernelspec": {
   "display_name": "base",
   "language": "python",
   "name": "python3"
  },
  "language_info": {
   "codemirror_mode": {
    "name": "ipython",
    "version": 3
   },
   "file_extension": ".py",
   "mimetype": "text/x-python",
   "name": "python",
   "nbconvert_exporter": "python",
   "pygments_lexer": "ipython3",
   "version": "3.12.7"
  }
 },
 "nbformat": 4,
 "nbformat_minor": 5
}
